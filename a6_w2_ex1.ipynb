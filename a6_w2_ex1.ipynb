{
 "cells": [
  {
   "cell_type": "markdown",
   "metadata": {},
   "source": [
    "Welcome to exercise one of week two of “Apache Spark for Scalable Machine Learning on BigData”. In this exercise you’ll read a DataFrame in order to perform a simple statistical analysis. Then you’ll rebalance the dataset. No worries, we’ll explain everything to you, let’s get started.\n",
    "\n",
    "Let’s create a data frame from a remote file by downloading it:\n",
    "\n",
    "\n"
   ]
  },
  {
   "cell_type": "code",
   "execution_count": 1,
   "metadata": {},
   "outputs": [
    {
     "name": "stdout",
     "output_type": "stream",
     "text": [
      "Requirement already satisfied: pixiedust in /home/fenghe/pixiedust (1.1.18)\n",
      "Requirement already satisfied: mpld3 in /home/fenghe/anaconda3/envs/dust/lib/python3.5/site-packages (from pixiedust) (0.3)\n",
      "Requirement already satisfied: lxml in /home/fenghe/anaconda3/envs/dust/lib/python3.5/site-packages (from pixiedust) (4.5.0)\n",
      "Requirement already satisfied: geojson in /home/fenghe/anaconda3/envs/dust/lib/python3.5/site-packages (from pixiedust) (2.5.0)\n",
      "Requirement already satisfied: astunparse in /home/fenghe/anaconda3/envs/dust/lib/python3.5/site-packages (from pixiedust) (1.6.3)\n",
      "Requirement already satisfied: markdown in /home/fenghe/anaconda3/envs/dust/lib/python3.5/site-packages (from pixiedust) (3.1.1)\n",
      "Requirement already satisfied: colour in /home/fenghe/anaconda3/envs/dust/lib/python3.5/site-packages (from pixiedust) (0.1.5)\n",
      "Requirement already satisfied: requests in /home/fenghe/anaconda3/envs/dust/lib/python3.5/site-packages (from pixiedust) (2.22.0)\n",
      "Requirement already satisfied: wheel<1.0,>=0.23.0 in /home/fenghe/anaconda3/envs/dust/lib/python3.5/site-packages (from astunparse->pixiedust) (0.31.1)\n",
      "Requirement already satisfied: six<2.0,>=1.6.1 in /home/fenghe/anaconda3/envs/dust/lib/python3.5/site-packages (from astunparse->pixiedust) (1.11.0)\n",
      "Requirement already satisfied: setuptools>=36 in /home/fenghe/anaconda3/envs/dust/lib/python3.5/site-packages (from markdown->pixiedust) (40.2.0)\n",
      "Requirement already satisfied: certifi>=2017.4.17 in /home/fenghe/anaconda3/envs/dust/lib/python3.5/site-packages (from requests->pixiedust) (2018.8.24)\n",
      "Requirement already satisfied: idna<2.9,>=2.5 in /home/fenghe/anaconda3/envs/dust/lib/python3.5/site-packages (from requests->pixiedust) (2.8)\n",
      "Requirement already satisfied: urllib3!=1.25.0,!=1.25.1,<1.26,>=1.21.1 in /home/fenghe/anaconda3/envs/dust/lib/python3.5/site-packages (from requests->pixiedust) (1.25.8)\n",
      "Requirement already satisfied: chardet<3.1.0,>=3.0.2 in /home/fenghe/anaconda3/envs/dust/lib/python3.5/site-packages (from requests->pixiedust) (3.0.4)\n"
     ]
    }
   ],
   "source": [
    "!pip install pixiedust"
   ]
  },
  {
   "cell_type": "code",
   "execution_count": 2,
   "metadata": {},
   "outputs": [],
   "source": [
    "from pyspark.context import SparkContext\n",
    "from pyspark.sql.session import SparkSession\n",
    "sc = SparkContext('local')\n",
    "spark = SparkSession(sc)"
   ]
  },
  {
   "cell_type": "code",
   "execution_count": 3,
   "metadata": {},
   "outputs": [
    {
     "name": "stdout",
     "output_type": "stream",
     "text": [
      "--2020-02-06 15:25:30--  https://github.com/IBM/coursera/raw/master/hmp.parquet\n",
      "Resolving github.com (github.com)... 140.82.113.4\n",
      "Connecting to github.com (github.com)|140.82.113.4|:443... connected.\n",
      "HTTP request sent, awaiting response... 302 Found\n",
      "Location: https://raw.githubusercontent.com/IBM/coursera/master/hmp.parquet [following]\n",
      "--2020-02-06 15:25:31--  https://raw.githubusercontent.com/IBM/coursera/master/hmp.parquet\n",
      "Resolving raw.githubusercontent.com (raw.githubusercontent.com)... 151.101.128.133, 151.101.64.133, 151.101.0.133, ...\n",
      "Connecting to raw.githubusercontent.com (raw.githubusercontent.com)|151.101.128.133|:443... connected.\n",
      "HTTP request sent, awaiting response... 200 OK\n",
      "Length: 932997 (911K) [application/octet-stream]\n",
      "Saving to: ‘hmp.parquet’\n",
      "\n",
      "hmp.parquet         100%[===================>] 911.13K  1.51MB/s    in 0.6s    \n",
      "\n",
      "2020-02-06 15:25:33 (1.51 MB/s) - ‘hmp.parquet’ saved [932997/932997]\n",
      "\n"
     ]
    }
   ],
   "source": [
    "# delete files from previous runs\n",
    "!rm -f hmp.parquet*\n",
    "\n",
    "# download the file containing the data in PARQUET format\n",
    "!wget https://github.com/IBM/coursera/raw/master/hmp.parquet\n",
    "    \n",
    "# create a dataframe out of it\n",
    "df = spark.read.parquet('hmp.parquet')\n",
    "\n",
    "# register a corresponding query table\n",
    "df.createOrReplaceTempView('df')"
   ]
  },
  {
   "cell_type": "markdown",
   "metadata": {},
   "source": [
    "Let’s have a look at the data set first. This dataset contains sensor recordings from different movement activities as we will see in the next week’s lectures. X, Y and Z contain accelerometer sensor values whereas the class field contains information about which movement has been recorded. The source field is optional and can be used for data lineage since it contains the file name of the original file where the particular row was imported from.\n",
    "\n",
    "More details on the data set can be found here:\n",
    "https://github.com/wchill/HMP_Dataset\n"
   ]
  },
  {
   "cell_type": "code",
   "execution_count": 4,
   "metadata": {},
   "outputs": [
    {
     "name": "stdout",
     "output_type": "stream",
     "text": [
      "+---+---+---+--------------------+-----------+\n",
      "|  x|  y|  z|              source|      class|\n",
      "+---+---+---+--------------------+-----------+\n",
      "| 22| 49| 35|Accelerometer-201...|Brush_teeth|\n",
      "| 22| 49| 35|Accelerometer-201...|Brush_teeth|\n",
      "| 22| 52| 35|Accelerometer-201...|Brush_teeth|\n",
      "| 22| 52| 35|Accelerometer-201...|Brush_teeth|\n",
      "| 21| 52| 34|Accelerometer-201...|Brush_teeth|\n",
      "| 22| 51| 34|Accelerometer-201...|Brush_teeth|\n",
      "| 20| 50| 35|Accelerometer-201...|Brush_teeth|\n",
      "| 22| 52| 34|Accelerometer-201...|Brush_teeth|\n",
      "| 22| 50| 34|Accelerometer-201...|Brush_teeth|\n",
      "| 22| 51| 35|Accelerometer-201...|Brush_teeth|\n",
      "| 21| 51| 33|Accelerometer-201...|Brush_teeth|\n",
      "| 20| 50| 34|Accelerometer-201...|Brush_teeth|\n",
      "| 21| 49| 33|Accelerometer-201...|Brush_teeth|\n",
      "| 21| 49| 33|Accelerometer-201...|Brush_teeth|\n",
      "| 20| 51| 35|Accelerometer-201...|Brush_teeth|\n",
      "| 18| 49| 34|Accelerometer-201...|Brush_teeth|\n",
      "| 19| 48| 34|Accelerometer-201...|Brush_teeth|\n",
      "| 16| 53| 34|Accelerometer-201...|Brush_teeth|\n",
      "| 18| 52| 35|Accelerometer-201...|Brush_teeth|\n",
      "| 18| 51| 32|Accelerometer-201...|Brush_teeth|\n",
      "+---+---+---+--------------------+-----------+\n",
      "only showing top 20 rows\n",
      "\n",
      "root\n",
      " |-- x: integer (nullable = true)\n",
      " |-- y: integer (nullable = true)\n",
      " |-- z: integer (nullable = true)\n",
      " |-- source: string (nullable = true)\n",
      " |-- class: string (nullable = true)\n",
      "\n"
     ]
    }
   ],
   "source": [
    "df.show()\n",
    "df.printSchema()"
   ]
  },
  {
   "cell_type": "markdown",
   "metadata": {},
   "source": [
    "This is a classical classification data set. One thing we always do during data analysis is checking if the classes are balanced. In other words, if there are more or less the same number of example in each class. Let’s find out by a simple aggregation using SQL."
   ]
  },
  {
   "cell_type": "code",
   "execution_count": 5,
   "metadata": {},
   "outputs": [
    {
     "name": "stdout",
     "output_type": "stream",
     "text": [
      "+--------------+--------+\n",
      "|         class|count(1)|\n",
      "+--------------+--------+\n",
      "| Use_telephone|   15225|\n",
      "| Standup_chair|   25417|\n",
      "|      Eat_meat|   31236|\n",
      "|     Getup_bed|   45801|\n",
      "|   Drink_glass|   42792|\n",
      "|    Pour_water|   41673|\n",
      "|     Comb_hair|   23504|\n",
      "|          Walk|   92254|\n",
      "|  Climb_stairs|   40258|\n",
      "| Sitdown_chair|   25036|\n",
      "|   Liedown_bed|   11446|\n",
      "|Descend_stairs|   15375|\n",
      "|   Brush_teeth|   29829|\n",
      "|      Eat_soup|    6683|\n",
      "+--------------+--------+\n",
      "\n"
     ]
    }
   ],
   "source": [
    "spark.sql('select class,count(*) from df group by class').show()"
   ]
  },
  {
   "cell_type": "markdown",
   "metadata": {},
   "source": [
    "As you can see there is quite an imbalance between classes. Before we dig into this, let’s re-write the same query using the DataFrame API – just in case you are not familiar with SQL. As we’ve learned before, it doesn’t matter if you express your queries with SQL or the DataFrame API – it all gets boiled down into the same execution plan optimized by Tungsten and accelerated by Catalyst. You can even mix and match SQL and DataFrame API code if you like.\n",
    "\n",
    "Again, more details on the API can be found here:\n",
    "https://spark.apache.org/docs/latest/api/python/pyspark.sql.html#pyspark.sql.DataFrame\n"
   ]
  },
  {
   "cell_type": "code",
   "execution_count": 6,
   "metadata": {},
   "outputs": [
    {
     "name": "stdout",
     "output_type": "stream",
     "text": [
      "+--------------+-----+\n",
      "|         class|count|\n",
      "+--------------+-----+\n",
      "| Use_telephone|15225|\n",
      "| Standup_chair|25417|\n",
      "|      Eat_meat|31236|\n",
      "|     Getup_bed|45801|\n",
      "|   Drink_glass|42792|\n",
      "|    Pour_water|41673|\n",
      "|     Comb_hair|23504|\n",
      "|          Walk|92254|\n",
      "|  Climb_stairs|40258|\n",
      "| Sitdown_chair|25036|\n",
      "|   Liedown_bed|11446|\n",
      "|Descend_stairs|15375|\n",
      "|   Brush_teeth|29829|\n",
      "|      Eat_soup| 6683|\n",
      "+--------------+-----+\n",
      "\n"
     ]
    }
   ],
   "source": [
    "df.groupBy('class').count().show()"
   ]
  },
  {
   "cell_type": "markdown",
   "metadata": {},
   "source": [
    "Let’s create a bar plot from this data. We’re using the pixidust library, which is Open Source, because of its simplicity. But any other library like matplotlib is fine as well. "
   ]
  },
  {
   "cell_type": "code",
   "execution_count": 8,
   "metadata": {
    "pixiedust": {
     "displayParams": {
      "handlerId": "barChart",
      "keyFields": "class",
      "legend": "true",
      "mpld3": "false",
      "orientation": "horizontal",
      "rendererId": "matplotlib",
      "sortby": "Values ASC",
      "valueFields": "count"
     }
    }
   },
   "outputs": [
    {
     "data": {
      "text/html": [
       "<style type=\"text/css\">.pd_warning{display:none;}</style><div class=\"pd_warning\"><em>Hey, there's something awesome here! To see it, open this notebook outside GitHub, in a viewer like Jupyter</em></div>\n",
       "        <div class=\"pd_save is-viewer-good\" style=\"padding-right:10px;text-align: center;line-height:initial !important;font-size: xx-large;font-weight: 500;color: coral;\">\n",
       "            \n",
       "        </div>\n",
       "    <div id=\"chartFigureda984f19\" class=\"pd_save is-viewer-good\" style=\"overflow-x:auto\">\n",
       "            \n",
       "                    \n",
       "                            <center><img style=\"max-width:initial !important\" src=\"data:image/png;base64,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\" class=\"pd_save\"></center>\n",
       "                        \n",
       "                    \n",
       "                \n",
       "        </div>"
      ],
      "text/plain": [
       "<IPython.core.display.HTML object>"
      ]
     },
     "metadata": {},
     "output_type": "display_data"
    }
   ],
   "source": [
    "import pixiedust\n",
    "from pyspark.sql.functions import col\n",
    "counts = df.groupBy('class').count().orderBy('count')\n",
    "display(counts)"
   ]
  },
  {
   "cell_type": "markdown",
   "metadata": {},
   "source": [
    "This looks nice, but it would be nice if we can aggregate further to obtain some quantitative metrics on the imbalance like, min, max, mean and standard deviation. If we divide max by min we get a measure called minmax ration which tells us something about the relationship between the smallest and largest class. Again, let’s first use SQL for those of you familiar with SQL. Don’t be scared, we’re used nested sub-selects, basically selecting from a result of a SQL query like it was a table. All within on SQL statement."
   ]
  },
  {
   "cell_type": "code",
   "execution_count": 8,
   "metadata": {},
   "outputs": [
    {
     "name": "stdout",
     "output_type": "stream",
     "text": [
      "+----+-----+------------------+------------------+-----------------+\n",
      "| min|  max|              mean|            stddev|      minmaxratio|\n",
      "+----+-----+------------------+------------------+-----------------+\n",
      "|6683|92254|31894.928571428572|21284.893716741157|13.80427951518779|\n",
      "+----+-----+------------------+------------------+-----------------+\n",
      "\n"
     ]
    }
   ],
   "source": [
    "spark.sql('''\n",
    "    select \n",
    "        *,\n",
    "        max/min as minmaxratio -- compute minmaxratio based on previously computed values\n",
    "        from (\n",
    "            select \n",
    "                min(ct) as min, -- compute minimum value of all classes\n",
    "                max(ct) as max, -- compute maximum value of all classes\n",
    "                mean(ct) as mean, -- compute mean between all classes\n",
    "                stddev(ct) as stddev -- compute standard deviation between all classes\n",
    "                from (\n",
    "                    select\n",
    "                        count(*) as ct -- count the number of rows per class and rename it to ct\n",
    "                        from df -- access the temporary query table called df backed by DataFrame df\n",
    "                        group by class -- aggrecate over class\n",
    "                )\n",
    "        )   \n",
    "''').show()"
   ]
  },
  {
   "cell_type": "markdown",
   "metadata": {},
   "source": [
    "The same query can be expressed using the DataFrame API. Again, don’t be scared. It’s just a sequential expression of transformation steps. You now an choose which syntax you like better."
   ]
  },
  {
   "cell_type": "code",
   "execution_count": 9,
   "metadata": {},
   "outputs": [
    {
     "name": "stdout",
     "output_type": "stream",
     "text": [
      "+----+-----+------------------+------------------+-----------------+\n",
      "| min|  max|              mean|            stddev|      minmaxratio|\n",
      "+----+-----+------------------+------------------+-----------------+\n",
      "|6683|92254|31894.928571428572|21284.893716741157|13.80427951518779|\n",
      "+----+-----+------------------+------------------+-----------------+\n",
      "\n"
     ]
    }
   ],
   "source": [
    "from pyspark.sql.functions import col, min, max, mean, stddev\n",
    "\n",
    "df \\\n",
    "    .groupBy('class') \\\n",
    "    .count() \\\n",
    "    .select([ \n",
    "        min(col(\"count\")).alias('min'), \n",
    "        max(col(\"count\")).alias('max'), \n",
    "        mean(col(\"count\")).alias('mean'), \n",
    "        stddev(col(\"count\")).alias('stddev') \n",
    "    ]) \\\n",
    "    .select([\n",
    "        col('*'),\n",
    "        (col(\"max\") / col(\"min\")).alias('minmaxratio')\n",
    "    ]) \\\n",
    "    .show()\n"
   ]
  },
  {
   "cell_type": "markdown",
   "metadata": {},
   "source": [
    "Now it’s time for you to work on the data set. First, please create a table of all classes with the respective counts, but this time, please order the table by the count number, ascending."
   ]
  },
  {
   "cell_type": "code",
   "execution_count": null,
   "metadata": {},
   "outputs": [],
   "source": [
    "$$$ your code goes here"
   ]
  },
  {
   "cell_type": "markdown",
   "metadata": {},
   "source": [
    "Pixiedust is a very sophisticated library. It takes care of sorting as well. Please modify the bar chart so that it gets sorted by the number of elements per class, ascending. Hint: It’s an option available in the UI once rendered using the display() function."
   ]
  },
  {
   "cell_type": "code",
   "execution_count": null,
   "metadata": {},
   "outputs": [],
   "source": [
    "$$$ your code goes here"
   ]
  },
  {
   "cell_type": "markdown",
   "metadata": {},
   "source": [
    "Imbalanced classes can cause pain in machine learning. Therefore let’s rebalance. In the flowing we limit the number of elements per class to the amount of the least represented class. This is called undersampling. Other ways of rebalancing can be found here:\n",
    "\n",
    "https://machinelearningmastery.com/tactics-to-combat-imbalanced-classes-in-your-machine-learning-dataset/"
   ]
  },
  {
   "cell_type": "code",
   "execution_count": 19,
   "metadata": {},
   "outputs": [],
   "source": [
    "from pyspark.sql.functions import min\n",
    "\n",
    "# create a lot of distinct classes from the dataset\n",
    "classes = [row[0] for row in df.select('class').distinct().collect()]\n",
    "\n",
    "# compute the number of elements of the smallest class in order to limit the number of samples per calss\n",
    "min = df.groupBy('class').count().select(min('count')).first()[0]\n",
    "\n",
    "# define the result dataframe variable\n",
    "df_balanced = None\n",
    "\n",
    "# iterate over distinct classes\n",
    "for cls in classes:\n",
    "    \n",
    "    # only select examples for the specific class within this iteration\n",
    "    # shuffle the order of the elements (by setting fraction to 1.0 sample works like shuffle)\n",
    "    # return only the first n samples\n",
    "    df_temp = df \\\n",
    "        .filter(\"class = '\"+cls+\"'\") \\\n",
    "        .sample(False, 1.0) \\\n",
    "        .limit(min)\n",
    "    \n",
    "    # on first iteration, assing df_temp to empty df_balanced\n",
    "    if df_balanced == None:    \n",
    "        df_balanced = df_temp\n",
    "    # afterwards, append vertically\n",
    "    else:\n",
    "        df_balanced=df_balanced.union(df_temp)"
   ]
  },
  {
   "cell_type": "markdown",
   "metadata": {},
   "source": [
    "Please verify, by using the code cell below, if df_balanced has the same number of elements per class. You should get 6683 elements per class."
   ]
  },
  {
   "cell_type": "code",
   "execution_count": null,
   "metadata": {},
   "outputs": [],
   "source": [
    "$$$"
   ]
  }
 ],
 "metadata": {
  "kernelspec": {
   "display_name": "Python 3",
   "language": "python",
   "name": "python3"
  },
  "language_info": {
   "codemirror_mode": {
    "name": "ipython",
    "version": 3
   },
   "file_extension": ".py",
   "mimetype": "text/x-python",
   "name": "python",
   "nbconvert_exporter": "python",
   "pygments_lexer": "ipython3",
   "version": "3.5.6"
  }
 },
 "nbformat": 4,
 "nbformat_minor": 4
}
