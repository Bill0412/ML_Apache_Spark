{
 "cells": [
  {
   "cell_type": "markdown",
   "metadata": {},
   "source": [
    "Welcome to exercise one of week two of “Apache Spark for Scalable Machine Learning on BigData”. In this exercise you’ll read a DataFrame in order to perform a simple statistical analysis. Then you’ll rebalance the dataset. No worries, we’ll explain everything to you, let’s get started.\n",
    "\n",
    "Let’s create a data frame from a remote file by downloading it:\n",
    "\n",
    "\n"
   ]
  },
  {
   "cell_type": "code",
   "execution_count": 1,
   "metadata": {},
   "outputs": [
    {
     "name": "stdout",
     "output_type": "stream",
     "text": [
      "Requirement already satisfied: pixiedust in /home/fenghe/pixiedust (1.1.18)\n",
      "Requirement already satisfied: mpld3 in /home/fenghe/anaconda3/envs/dust/lib/python3.5/site-packages (from pixiedust) (0.3)\n",
      "Requirement already satisfied: lxml in /home/fenghe/anaconda3/envs/dust/lib/python3.5/site-packages (from pixiedust) (4.5.0)\n",
      "Requirement already satisfied: geojson in /home/fenghe/anaconda3/envs/dust/lib/python3.5/site-packages (from pixiedust) (2.5.0)\n",
      "Requirement already satisfied: astunparse in /home/fenghe/anaconda3/envs/dust/lib/python3.5/site-packages (from pixiedust) (1.6.3)\n",
      "Requirement already satisfied: markdown in /home/fenghe/anaconda3/envs/dust/lib/python3.5/site-packages (from pixiedust) (3.1.1)\n",
      "Requirement already satisfied: colour in /home/fenghe/anaconda3/envs/dust/lib/python3.5/site-packages (from pixiedust) (0.1.5)\n",
      "Requirement already satisfied: requests in /home/fenghe/anaconda3/envs/dust/lib/python3.5/site-packages (from pixiedust) (2.22.0)\n",
      "Requirement already satisfied: wheel<1.0,>=0.23.0 in /home/fenghe/anaconda3/envs/dust/lib/python3.5/site-packages (from astunparse->pixiedust) (0.31.1)\n",
      "Requirement already satisfied: six<2.0,>=1.6.1 in /home/fenghe/anaconda3/envs/dust/lib/python3.5/site-packages (from astunparse->pixiedust) (1.11.0)\n",
      "Requirement already satisfied: setuptools>=36 in /home/fenghe/anaconda3/envs/dust/lib/python3.5/site-packages (from markdown->pixiedust) (40.2.0)\n",
      "Requirement already satisfied: chardet<3.1.0,>=3.0.2 in /home/fenghe/anaconda3/envs/dust/lib/python3.5/site-packages (from requests->pixiedust) (3.0.4)\n",
      "Requirement already satisfied: certifi>=2017.4.17 in /home/fenghe/anaconda3/envs/dust/lib/python3.5/site-packages (from requests->pixiedust) (2018.8.24)\n",
      "Requirement already satisfied: urllib3!=1.25.0,!=1.25.1,<1.26,>=1.21.1 in /home/fenghe/anaconda3/envs/dust/lib/python3.5/site-packages (from requests->pixiedust) (1.25.8)\n",
      "Requirement already satisfied: idna<2.9,>=2.5 in /home/fenghe/anaconda3/envs/dust/lib/python3.5/site-packages (from requests->pixiedust) (2.8)\n"
     ]
    }
   ],
   "source": [
    "!pip install pixiedust"
   ]
  },
  {
   "cell_type": "code",
   "execution_count": 2,
   "metadata": {},
   "outputs": [],
   "source": [
    "from pyspark.context import SparkContext\n",
    "from pyspark.sql.session import SparkSession\n",
    "sc = SparkContext('local')\n",
    "spark = SparkSession(sc)"
   ]
  },
  {
   "cell_type": "code",
   "execution_count": 3,
   "metadata": {},
   "outputs": [
    {
     "name": "stdout",
     "output_type": "stream",
     "text": [
      "--2020-02-07 14:02:37--  https://github.com/IBM/coursera/raw/master/hmp.parquet\n",
      "Resolving github.com (github.com)... 192.30.253.113\n",
      "Connecting to github.com (github.com)|192.30.253.113|:443... connected.\n",
      "HTTP request sent, awaiting response... 302 Found\n",
      "Location: https://raw.githubusercontent.com/IBM/coursera/master/hmp.parquet [following]\n",
      "--2020-02-07 14:02:38--  https://raw.githubusercontent.com/IBM/coursera/master/hmp.parquet\n",
      "Resolving raw.githubusercontent.com (raw.githubusercontent.com)... 151.101.0.133, 151.101.192.133, 151.101.128.133, ...\n",
      "Connecting to raw.githubusercontent.com (raw.githubusercontent.com)|151.101.0.133|:443... connected.\n",
      "HTTP request sent, awaiting response... 200 OK\n",
      "Length: 932997 (911K) [application/octet-stream]\n",
      "Saving to: ‘hmp.parquet’\n",
      "\n",
      "hmp.parquet         100%[===================>] 911.13K  3.82MB/s    in 0.2s    \n",
      "\n",
      "2020-02-07 14:02:40 (3.82 MB/s) - ‘hmp.parquet’ saved [932997/932997]\n",
      "\n"
     ]
    }
   ],
   "source": [
    "# delete files from previous runs\n",
    "!rm -f hmp.parquet*\n",
    "\n",
    "# download the file containing the data in PARQUET format\n",
    "!wget https://github.com/IBM/coursera/raw/master/hmp.parquet\n",
    "    \n",
    "# create a dataframe out of it\n",
    "df = spark.read.parquet('hmp.parquet')\n",
    "\n",
    "# register a corresponding query table\n",
    "df.createOrReplaceTempView('df')"
   ]
  },
  {
   "cell_type": "markdown",
   "metadata": {},
   "source": [
    "Let’s have a look at the data set first. This dataset contains sensor recordings from different movement activities as we will see in the next week’s lectures. X, Y and Z contain accelerometer sensor values whereas the class field contains information about which movement has been recorded. The source field is optional and can be used for data lineage since it contains the file name of the original file where the particular row was imported from.\n",
    "\n",
    "More details on the data set can be found here:\n",
    "https://github.com/wchill/HMP_Dataset\n"
   ]
  },
  {
   "cell_type": "code",
   "execution_count": 4,
   "metadata": {},
   "outputs": [
    {
     "name": "stdout",
     "output_type": "stream",
     "text": [
      "+---+---+---+--------------------+-----------+\n",
      "|  x|  y|  z|              source|      class|\n",
      "+---+---+---+--------------------+-----------+\n",
      "| 22| 49| 35|Accelerometer-201...|Brush_teeth|\n",
      "| 22| 49| 35|Accelerometer-201...|Brush_teeth|\n",
      "| 22| 52| 35|Accelerometer-201...|Brush_teeth|\n",
      "| 22| 52| 35|Accelerometer-201...|Brush_teeth|\n",
      "| 21| 52| 34|Accelerometer-201...|Brush_teeth|\n",
      "| 22| 51| 34|Accelerometer-201...|Brush_teeth|\n",
      "| 20| 50| 35|Accelerometer-201...|Brush_teeth|\n",
      "| 22| 52| 34|Accelerometer-201...|Brush_teeth|\n",
      "| 22| 50| 34|Accelerometer-201...|Brush_teeth|\n",
      "| 22| 51| 35|Accelerometer-201...|Brush_teeth|\n",
      "| 21| 51| 33|Accelerometer-201...|Brush_teeth|\n",
      "| 20| 50| 34|Accelerometer-201...|Brush_teeth|\n",
      "| 21| 49| 33|Accelerometer-201...|Brush_teeth|\n",
      "| 21| 49| 33|Accelerometer-201...|Brush_teeth|\n",
      "| 20| 51| 35|Accelerometer-201...|Brush_teeth|\n",
      "| 18| 49| 34|Accelerometer-201...|Brush_teeth|\n",
      "| 19| 48| 34|Accelerometer-201...|Brush_teeth|\n",
      "| 16| 53| 34|Accelerometer-201...|Brush_teeth|\n",
      "| 18| 52| 35|Accelerometer-201...|Brush_teeth|\n",
      "| 18| 51| 32|Accelerometer-201...|Brush_teeth|\n",
      "+---+---+---+--------------------+-----------+\n",
      "only showing top 20 rows\n",
      "\n",
      "root\n",
      " |-- x: integer (nullable = true)\n",
      " |-- y: integer (nullable = true)\n",
      " |-- z: integer (nullable = true)\n",
      " |-- source: string (nullable = true)\n",
      " |-- class: string (nullable = true)\n",
      "\n"
     ]
    }
   ],
   "source": [
    "df.show()\n",
    "df.printSchema()"
   ]
  },
  {
   "cell_type": "markdown",
   "metadata": {},
   "source": [
    "This is a classical classification data set. One thing we always do during data analysis is checking if the classes are balanced. In other words, if there are more or less the same number of example in each class. Let’s find out by a simple aggregation using SQL."
   ]
  },
  {
   "cell_type": "code",
   "execution_count": 5,
   "metadata": {},
   "outputs": [
    {
     "name": "stdout",
     "output_type": "stream",
     "text": [
      "+--------------+--------+\n",
      "|         class|count(1)|\n",
      "+--------------+--------+\n",
      "| Use_telephone|   15225|\n",
      "| Standup_chair|   25417|\n",
      "|      Eat_meat|   31236|\n",
      "|     Getup_bed|   45801|\n",
      "|   Drink_glass|   42792|\n",
      "|    Pour_water|   41673|\n",
      "|     Comb_hair|   23504|\n",
      "|          Walk|   92254|\n",
      "|  Climb_stairs|   40258|\n",
      "| Sitdown_chair|   25036|\n",
      "|   Liedown_bed|   11446|\n",
      "|Descend_stairs|   15375|\n",
      "|   Brush_teeth|   29829|\n",
      "|      Eat_soup|    6683|\n",
      "+--------------+--------+\n",
      "\n"
     ]
    }
   ],
   "source": [
    "spark.sql('select class,count(*) from df group by class').show()"
   ]
  },
  {
   "cell_type": "markdown",
   "metadata": {},
   "source": [
    "As you can see there is quite an imbalance between classes. Before we dig into this, let’s re-write the same query using the DataFrame API – just in case you are not familiar with SQL. As we’ve learned before, it doesn’t matter if you express your queries with SQL or the DataFrame API – it all gets boiled down into the same execution plan optimized by Tungsten and accelerated by Catalyst. You can even mix and match SQL and DataFrame API code if you like.\n",
    "\n",
    "Again, more details on the API can be found here:\n",
    "https://spark.apache.org/docs/latest/api/python/pyspark.sql.html#pyspark.sql.DataFrame\n"
   ]
  },
  {
   "cell_type": "code",
   "execution_count": 6,
   "metadata": {},
   "outputs": [
    {
     "name": "stdout",
     "output_type": "stream",
     "text": [
      "+--------------+-----+\n",
      "|         class|count|\n",
      "+--------------+-----+\n",
      "| Use_telephone|15225|\n",
      "| Standup_chair|25417|\n",
      "|      Eat_meat|31236|\n",
      "|     Getup_bed|45801|\n",
      "|   Drink_glass|42792|\n",
      "|    Pour_water|41673|\n",
      "|     Comb_hair|23504|\n",
      "|          Walk|92254|\n",
      "|  Climb_stairs|40258|\n",
      "| Sitdown_chair|25036|\n",
      "|   Liedown_bed|11446|\n",
      "|Descend_stairs|15375|\n",
      "|   Brush_teeth|29829|\n",
      "|      Eat_soup| 6683|\n",
      "+--------------+-----+\n",
      "\n"
     ]
    }
   ],
   "source": [
    "df.groupBy('class').count().show()"
   ]
  },
  {
   "cell_type": "markdown",
   "metadata": {},
   "source": [
    "Let’s create a bar plot from this data. We’re using the pixidust library, which is Open Source, because of its simplicity. But any other library like matplotlib is fine as well. "
   ]
  },
  {
   "cell_type": "code",
   "execution_count": 7,
   "metadata": {
    "pixiedust": {
     "displayParams": {
      "handlerId": "barChart",
      "keyFields": "class",
      "legend": "true",
      "mpld3": "false",
      "orientation": "horizontal",
      "rendererId": "matplotlib",
      "sortby": "Values ASC",
      "valueFields": "count"
     }
    }
   },
   "outputs": [
    {
     "data": {
      "text/html": [
       "<style type=\"text/css\">.pd_warning{display:none;}</style><div class=\"pd_warning\"><em>Hey, there's something awesome here! To see it, open this notebook outside GitHub, in a viewer like Jupyter</em></div><img style=\"max-width:initial !important\" src=\"data:image/png;base64,iVBORw0KGgoAAAANSUhEUgAAAysAAAINCAYAAAA+1eDDAAAABHNCSVQICAgIfAhkiAAAAAlwSFlzAAAOwwAADsMBx2+oZAAAADl0RVh0U29mdHdhcmUAbWF0cGxvdGxpYiB2ZXJzaW9uIDMuMC4zLCBodHRwOi8vbWF0cGxvdGxpYi5vcmcvnQurowAAIABJREFUeJzs3Xl0VPX9//HXZM9kkkwyCQkhQAIBBBKxCiib38gSv/BVRBFlBwFlEUoti5SAIAKmiBVqVRDQIFK1SrHUjUXBrSyKCIpAIBBDCCQQspJAtvn9YZmfY4AECZkLPh/n3HOYez/L+w6edl587mfGZLfb7QIAAAAAg3FzdQEAAAAAcCGEFQAAAACG5OHqAgAAqI7dbte5c+fEk8tXxmQyycvLS25u/FslgGsDYQUAYGilpaX64YcfVFFR4epSrhv16tVTZGSkTCaTq0sBgEsirAAADMtut+vHH3+Uh4eHmjVrxorAFbLb7SoqKtLRo0clSQ0bNnRxRQBwaYQVAIBhVVRUqKCgQE2aNJGfn5+ry7kumM1mSdLRo0fl5+en4OBgF1cEABfHP1EBAAyrrKxMkuTt7e3iSq4vFotFkrR+/XqdPn3axdUAwMURVgAAhsfeitp1/v08deqUNmzY4OJqAODiCCsAAPxGBQQEKCcnR+fOnXN1KQBwQexZAQBcc0ymJ+tsLrt9Vp3NVdfc3NxUUVHBN60BMCxWVgAAuE6kpaXJZDLp0KFDri4FAGoFYQUAAACAIRFWAACoRSUlJZoxY4aaN28uf39/NWnSRCtXrpQkJScnKzY2VgEBAYqNjXWcl6QtW7bIZDKpvLzccS45OVmRkZGO18OHD1f//v01fvx42Ww2hYWFaebMmY7rrVu3liS1adNGFotFY8aMudq3CwBXFXtWAACoRQ8//LBSUlL0r3/9SzfccIOOHz+uEydOaM2aNfr973+vtWvXKj4+Xps3b1afPn0UGBioPn361Hj8tWvXauXKlVq8eLF27Nih22+/XV27dtUdd9yhvXv3Kjo6Wrt371ZMTMxVvEsAqBusrAAAUEtOnTql1atX68UXX1TLli1lMpkUERGhm2++WS+//LJGjhypbt26yd3dXd27d9fIkSO1ZMmSy5qjU6dO6t+/v9zd3dWhQwfddNNN2rFjx1W6IwBwLcIKAAC15MiRI5KkFi1aVLl29OhRNW3a1OlcTEyM0tPTL2uOiIgIp9d+fn4qLCy8zEoB4NpAWAEAoJZERUVJklJSUqpca9iwoVJTU53OpaamqlGjRpIkf39/SdKZM2cc1zMzMy9rfjc3/m8dwPWF/1UDAKCWhIaGasCAAXr00Ud14MABSdLx48f1zTffaNSoUXrllVe0ZcsWVVRU6JNPPtGKFSv0yCOPSJJjQ/7SpUtVWVmpb7/9Vi+//PJlz+/m5uaYGwCudYQVAABq0bJly/Q///M/6tmzpywWizp16qS9e/eqX79+evbZZzVu3DhZrVZNmDBBixcv1n333Sfpp5WVlStX6uWXX1ZAQID+9Kc/OYJMTfn6+mr+/PkaNWqUrFarxo0bdzVuEQDqjMlut9tdXQQAABdSUlKiH374Qa1atZKvr6+ry7lunH9ff/jhB+Xm5mrUqFEym82uLgsAqmBlBQAAAIAhEVYAAAAAGBJhBQAAAIAhEVYAAAAAGBJhBQBgeHwXTO06/37yvgIwOsIKAMCwPD09JUnnzp1zcSXXl6KiIklSaWmpiysBgEvzcHUBAABcjLu7uwICAnTs2DF5eXnxC+1XyG63q6ioSEePHtXp06dZWQFgeIQVAIBhmUwmNW7cWHv37tX+/ftdXc514/Tp0zp58qQqKirk7u7uWMECAKMhrAAADM3Ly0utW7fWu+++q6ysLIWFhbHCcgXKyspkt9tVVlam3NxctWzZkrACwLD4BXsAwDUhNzdX7733njIzM2UymXiE6QqZTCY1adJEvXr14tfrARgWYQUAcM04c+aMTp06xYb7WuDj46N69erJx8fH1aUAwEURVgAAAAAYEg/9AgAAADAkwgoAAAAAQyKsAAAAADAkwgoAAAAAQyKsAAAAADAkwgoAAAAAQyKsAAAAADAkwgoAAAAAQyKsAAAAADAkwgoAAAAAQyKsAAAAADAkwgoAAAAAQyKsAAAAADAkwgoAAAAAQyKsAAAAADAkwgoAAAAAQyKsAAAAADAkwgoAAAAAQyKsAAAAADAkwgoAAAAAQyKsAAAAADAkwgoAAAAAQyKsAAAAADAkwgoAAAAAQyKsAAAAADAkwgoAAAAAQyKsAAAAADAkwgoAAAAAQyKsAAAAADAkD1cXAOOprKxUXl6efHx8ZDKZXF0OAAAArlN2u11nz56V1WqVm1vVdRTCCqrIy8uTzWZzdRkAAAD4jcjJyVFwcHCV84QVVOHj4yPpp/9ofH19XVwNAAAArlclJSWy2WyOz5+/RFhBFecf/fL19SWsAAAA4Kq72NYDNtgDAAAAMCTCCgAAAABDIqwAAAAAMCTCCgAAAABDIqwAAAAAMCS+DQwXZTbPk+Tp6jIui90+y9UlAAAAoJawsgIAAADAkAgrAAAAAAyJsAIAAADAkAgrkuLj4+Xl5SWLxeJ0vPXWW9X2TUtLk8lk0qFDh+qgUgAAAOC3gw32/zV16lTNnTvX1WUAAAAA+C9WVqrx/fffq1u3bgoNDVVgYKBuvfVWffLJJ47rrVu3liS1adNGFotFY8aMueR4paWlGjdunMLDw+Xv76+oqCg9//zzjutbt25Vly5dFBQUpOjoaE2bNk3nzp1zXDeZTNq0aZPj9S9XdpKTkxUZGanFixcrMjJSNptNI0aMUFFRUa28HwAAAEBdIazUwLRp05Senq7s7Gz17NlT9957r7KzsyVJe/fulSTt3r1bRUVFWrJkySXHWrlypbZu3arvv/9ehYWF2rZtmzp16iRJSk9PV/fu3dW3b19lZWVpw4YN+ve//63HH3/8suo9ceKEvv32Wx04cEB79uzRd999p8cee+yi7cvKylRSUuJ0AAAAAK5GWPmvhQsXymq1Oh0HDx5UbGysevToIV9fX3l7e2v27NkymUzavn37r5rHy8tLRUVF+uGHH1RWVqbw8HDdfPPNkqTVq1erefPm+sMf/iAvLy81a9ZMc+fO1csvvyy73V7jOex2uxYtWiQ/Pz81aNBAc+bM0cqVK1VRUXHB9vPmzZPZbHYcNpvtV90bAAAAUJsIK/81efJk5eXlOR3NmjVTenq6+vfvr0aNGikgIEBWq1UFBQWOlZXLNXjwYI0ePVpTpkxRSEiIevbsqZ07d0qSjh49qqZNmzq1j4mJUUlJiU6ePFnjOYKCghQYGOh4HR0drbKyMmVlZV2wfWJiooqLix1HTk7Or7gzAAAAoHYRVqrx8MMPq7KyUl999ZUKCgqUm5urgIAAx0qHm9vlvYXu7u6aPHmytm/frmPHjqlly5a65557JEkNGzbU4cOHndqnpqbK19dXoaGhkiSLxaIzZ844rmdmZlaZIzc3V/n5+Y7XaWlp8vT0VFhY2AVr8vT0lK+vr9MBAAAAuBphpRr5+fmyWCwKCgrSmTNn9Kc//clps3poaKjc3Nx04MCBGo33ySef6Ouvv1Zpaal8fHxksVjk7u4uSRo4cKAOHDig559/XqWlpUpNTdXMmTM1atQomUwmSVLbtm2VnJyss2fPKisrS08++WSVOUwmkyZNmqQzZ84oMzNTs2bN0pAhQxzzAAAAANcCwsp/LViwoMrvrCxYsEB//etftXv3bgUFBalVq1Zq0KCBIiMjHf18fX01f/58jRo1SlarVePGjbvkPNnZ2Ro+fLiCg4MVGhqqTz/9VO+8844kqXHjxtqwYYPeeust1atXT127dlXPnj21YMECR/8XXnhBJ06cUEhIiHr06KEhQ4ZUmSM8PFxxcXFq3ry5YmNj1bJlSy1atKiW3ikAAACgbpjsl7NzG4aXnJysGTNmKCMj41ePUVJSIrPZLClRkmet1VYX7PZZri4BAAAANXT+c2dxcfEFtyKwsgIAAADAkPgF+1qWnp6uVq1aXfDajTfeqP/85z91XNGvV1ycyGZ7AAAAuAyPgaGK6pbjAAAAgNrAY2AAAAAArkmEFQAAAACGRFgBAAAAYEiEFQAAAACGRFgBAAAAYEiEFQAAAACGRFgBAAAAYEiEFQAAAACGRFgBAAAAYEiEFQAAAACGRFgBAAAAYEiEFQAAAACGRFgBAAAAYEiEFQAAAACG5OHqAmBcZvM8SZ6uLuOaY7fPcnUJAAAA1wVWVgAAAAAYEmEFAAAAgCERVgAAAAAY0jUXVlavXq0WLVpc0RiDBw/W8OHDa6egWpScnKzIyMhaHzcyMlLJycm1Pi4AAABwNRk2rMTHx2vGjBlVzg8aNEgHDhxwQUUAAAAA6pJhwwoAAACA37ZrLqz88lGpiooKPfvss2rZsqUCAwN1yy236OOPP3bq88wzz6hRo0ayWq0aNWqUSktLna4fO3ZMDzzwgMLCwhQWFqYHH3xQmZmZkqTvvvtOXl5eKioqkiR9+umnMplMWrx4saN/y5YttWrVKknS8OHD1b9/f40fP142m01hYWGaOXPmZd3j4sWLFRkZKZvNphEjRjjmlqS8vDyNHTtWjRs3ls1mU69evXT48GHH9aKiIo0cOVI2m00NGjRwqvNiysrKVFJS4nQAAAAArnbNhZVfeuqpp7Rq1Sq9++67ys3N1YwZM9S7d2+lpqZKkv7+979r/vz5evPNN3Xy5Em1b99ea9eudfSvqKjQXXfdJXd3d6WkpOjAgQOy2+3q3bu3KioqFBcXJ5vNps2bN0uS1q9fr2bNmmnDhg2SpIyMDB04cEA9evRwjLl27Vp17txZ2dnZevfdd5WUlOToX50TJ07o22+/1YEDB7Rnzx599913euyxxyRJdrtd9957rwoKCrRr1y5lZmYqLi5Od911l8rKyiRJf/zjH7Vr1y7t3r1bKSkp+vbbb3XixIlLzjlv3jyZzWbHYbPZavjuAwAAAFfPNR9WnnvuOf35z39WixYt5ObmpnvvvVcdO3bUG2+8IUl69dVXNWLECHXs2FGenp565JFHdOONNzr679ixQ7t379aLL76owMBAWa1WvfTSS/rmm2/01VdfSZJ69OjhCCcbNmzQ/Pnz9dlnn+ncuXPasGGD4uLiFB4e7hizU6dO6t+/v9zd3dWhQwfddNNN2rFjR43ux263a9GiRfLz81ODBg00Z84crVy5UhUVFdq1a5e+/PJLLV26VMHBwfL29tb8+fN15MgRbd++XZWVlXrttdf05JNPKjIyUn5+flq0aJEqKysvOWdiYqKKi4sdR05OzmX9HQAAAABXwzX9C/ZZWVkqKChQv3795Ob2/3NXWVmZYmJiJP208nHPPfc49YuOjnb8+ejRowoODlZQUJDjnM1mU1BQkNLT03XbbbcpISFBTz31lHJycnTw4EH17t1bN9xwg7744gtt3LhRCQkJTuNHREQ4vfbz81NhYWGN7ikoKEiBgYFOtZaVlSkrK0sHDx5UeXn5Bb8x7OjRozp58qTOnTvndH+BgYEKDg6+5Jyenp7y9OSX6gEAAGAs13RYsVqt8vHx0Xvvvafbb7/9gm0iIyOVlpbmdC4tLU2xsbGSpIYNGyo3N1e5ubmOwHL69Gnl5uaqUaNGkqTu3btr6NChWrZsmW6//XZ5eXnpzjvv1IcffqhNmzZp9erVtXZPubm5ys/PdwSWtLQ0eXp6KiwsTOHh4fLy8tLJkycvGC4qKyvl7e3tdH/5+fnKzc2ttfoAAACAumLox8AqKip09uxZp+PnjzR5e3trzJgxmjp1qvbt2ye73a6SkhJ99tlnSklJkSQNGzZMr7zyirZt26by8nItX75cu3fvdozRvn17xcbGavz48SooKFB+fr4effRR3XTTTWrXrp0kKTw8XHFxcUpKSnKsoiQkJGj58uUqKiq6aFD6NUwmkyZNmqQzZ84oMzNTs2bN0pAhQ+Tu7q7OnTsrNjZWY8eOVXZ2tqSfws2aNWtUXFwsNzc3DR48WLNnz9axY8d05swZTZo0SSaTqdbqAwAAAOqKocNKUlKSfH19nY5f7r9YuHChBgwYoH79+slqtSoqKkpPP/20Y8P5oEGDNHXqVPXr108hISHatm2b7r33Xkd/d3d3vffeezp37pxiYmLUrFkzlZeXa926dXJ3d3e0S0hIUH5+viOsdOjQQZWVlerSpYt8fHxq7Z7PB6PmzZsrNjZWLVu21KJFixy1bty4UWazWbfeeqv8/f3Vpk0brV271hFInnvuOcXFxTnG+OV+GgAAAOBaYbLb7XZXFwFjKSkpkdlslpQoib0sl8tun+XqEgAAAK4J5z93FhcXy9fXt8r1a3rPCq6u4uLEC/5HAwAAANQFQz8Gdr2ZP3++LBbLBY8XX3zR1eUBAAAAhsJjYKiiuuU4AAAAoDZU97mTlRUAAAAAhkRYAQAAAGBIhBUAAAAAhkRYAQAAAGBIhBUAAAAAhkRYAQAAAGBIhBUAAAAAhkRYAQAAAGBIhBUAAAAAhkRYAQAAAGBIhBUAAAAAhkRYAQAAAGBIhBUAAAAAhuTh6gJgXGbzPEmeri4DF2G3z3J1CQAAAFcVKysAAAAADImwAgAAAMCQCCuXMHz4cA0ePLjWxktLS5PJZNKhQ4dqbUwAAADgelWnYSUqKkrLly+vcj4+Pl4zZsy4avNu2bJFJpNJ5eXlV20OAAAAALWLlRUAAAAAhmSosJKXl6f+/fsrJCREAQEBat68ud555x3H9e3btys+Pl42m02NGzfWzJkzq10tSU9PV8+ePSVJVqtVFotF8+fPd8w3duxYNW7cWDabTb169dLhw4cvWd+l2g8fPlwPPPCARo0aJavVqkaNGmnBggVVxvnyyy/Vpk0b+fv767bbbtMPP/zguHb27Fk9/vjjio6OVlBQkLp06aLt27c7ricnJysyMlJLly5VVFSUAgMD1a9fPxUUFNS4TgAAAOBaYKiw8swzz6iwsFBHjhxRfn6+Nm7cqFatWkmSDhw4oG7dumnMmDHKysrSZ599pnXr1unPf/7zJcds1KiRPvzwQ0k/fYgvKirS9OnTZbfbde+996qgoEC7du1SZmam4uLidNddd6msrKzKODVtv3btWrVr104nT57UP/7xDyUlJWn16tVOY61atUofffSRTp48qcjISI0dO9ZxbcqUKfrggw+0ceNGZWVlqU+fPurevbsyMjIcbU6cOKH9+/dr37592r9/v7799ls9++yzl1Xnz5WVlamkpMTpAAAAAFzNUGHFy8tLOTk52r9/v+x2uxo3buwIKy+88ILuvvtu9e/fXx4eHmrcuLGmTp2qV1999VfNtWvXLn355ZdaunSpgoOD5e3trfnz5+vIkSNOKxmX2/7GG2/U6NGj5enpqdtuu00PP/ywXnnlFaexnnjiCdWvX18+Pj566KGH9NVXX0mSKisrtWLFCs2dO1cxMTHy8vLSpEmT1KRJE73++uuO/h4eHlqwYIF8fX1Vv3599enTRzt27PhV9yVJ8+bNk9lsdhw2m+1XvacAAABAbarTH4X09PS84L/ul5WVydPTU1OmTFFFRYVGjRql9PR0de/eXU8//bRiYmJ08OBBbd68WVar1dGvsrJSlZWVv6qWgwcPqry8XJGRkVWuHT169Fe3j46OdroWHR2ttWvXOp2LiIhw/NnPz08lJSUqLy/X6dOnVVJSoqZNmzq1j4mJUXp6uuN1SEiIPD09ncYoLCz8VfclSYmJiXr88ccdr0tKSggsAAAAcLk6DStNmjTRwYMHnc5VVlbq8OHDatq0qcxms+bMmaM5c+bo9OnTevTRRzVs2DB9+eWXCg8P18CBA6usUtSEm1vVBaTw8HB5eXnp5MmTTh/8L6am7dPS0qq8vlBwuJCQkBD5+PgoNTVVsbGxjvOpqalq165djca43PuSfgqRNW0LAAAA1JU6fQxsxIgReuWVV7Rp0yaVl5ersLBQiYmJstvt6tWrl9atW6e9e/eqvLxcZrNZvr6+8vD4KU+NGzdO77zzjt5++22VlpaqoqJChw4d0kcffVTtvOHh4ZJ+2vdyXufOnRUbG6uxY8cqOztbkpSbm6s1a9aouLi4yhg1bb97924tX75c5eXl2rFjh5YtW6aHHnqoRu+Pm5ubRowYoSeeeEKHDx9WaWmpnnvuOR06dEiDBg2q0RiXe18AAACAUdVpWHnwwQe1ePFiTZkyRSEhIWrWrJm+//57bdq0ScHBwTpy5Ij69Okjq9WqBg0aKCsrSytWrJAktWvXThs3btSyZcvUoEED2Ww23X///frxxx+rnbd58+aaMGGC7rjjDlmtViUlJcnd3V0bN26U2WzWrbfeKn9/f7Vp00Zr166VyWSqMkZN2997773atm2bQkJC1LdvX02ePPmyflhy4cKFSkhI0B133KF69eppzZo12rhxoxo2bFij/pd7XwAAAIBRmex2u93VRVwvhg8frvLycqfN8NeikpISmc1mSYmSeDzMqOz2Wa4uAQAA4Iqc/9xZXFwsX1/fKtcN9W1gAAAAAHBenW6wv1pWr16t0aNHX/Dao48+Wu1vseDCiosTL5hwAQAAgLrAY2CoorrlOAAAAKA28BgYAAAAgGsSYQUAAACAIRFWAAAAABgSYQUAAACAIRFWAAAAABgSYQUAAACAIRFWAAAAABgSYQUAAACAIRFWAAAAABgSYQUAAACAIRFWAAAAABgSYQUAAACAIRFWAAAAABgSYQUAAACAIXm4ugAYl9k8T5Knq8vAJdjts1xdAgAAwFXDygoAAAAAQyKsAAAAADAkwgoAAAAAQyKs/AozZsxQfHy8S+aeP3++EhISXDI3AAAAUJeueliJj4+Xl5eX/P39FRgYqIYNG6pPnz56//33r/bUhpaWliaTyaRDhw5dVr/p06drw4YNV6kqAAAAwDjqZGVl6tSpKiwsVH5+vnbu3KmEhAT1799fiYmJdTH9b0ppaamrSwAAAABqRZ0/BlavXj2NGzdOixYtUlJSkmNl4bXXXlObNm0UGBio1q1b680333T0SU9PV69evRQcHKzAwEDFxsbq888/d1x///33ddtttykoKEg2m03333+/49qxY8c0cOBANWjQQPXq1dOAAQN08uRJx/X4+HhNnDhRAwcOdKz8vPTSS041r1q1Ss2aNZO/v7/uu+8+5eXl1eheS0tLNW7cOIWHh8vf319RUVF6/vnnJUmtW7eWJLVp00YWi0VjxoyRJL3wwguKjY1VQECAwsPDNWTIEJ06dcox5uzZs9W5c2en+sePH6/+/fsrKChIv//975WXl6f+/fsrJCREAQEBat68ud55552L1llWVqaSkhKnAwAAAHA1l+1ZGThwoCTp448/VnJysmbMmKEVK1YoNzdXS5cu1SOPPKIvvvhCkvSnP/1JDRo0UGZmpnJzc7VmzRpFRkZKkjZu3Kj7779fkyZNUlZWlo4dO6axY8dKks6dO6du3bopIiJCKSkpOnz4sDw8PBxzn5ecnKxRo0YpNzdXixYt0vjx4x0h6j//+Y9GjBihv/zlL8rNzdVDDz2kFStW1OgeV65cqa1bt+r7779XYWGhtm3bpk6dOkmS9u7dK0navXu3ioqKtGTJEklSeHi4/vnPfyovL0/bt29XSkqKJkyYcMl5Xn31VQ0dOlQ5OTn6y1/+omeeeUaFhYU6cuSI8vPztXHjRrVq1eqi/efNmyez2ew4bDZbje4PAAAAuJpcFlZ8fX0VEhLi+ICdmJiotm3bys3NTZ07d9aDDz6o5ORkSZKXl5dOnDih1NRUmUwmtWjRQtHR0ZKkxYsXa+TIkerXr5+8vLzk4+Ojbt26SfppxaWwsFDPPPOM/Pz8ZLFYlJSUpE2bNikjI8NRS9++fdW1a1e5ubmpb9++Cg4O1s6dOyX9FAR69+6tu+++Wx4eHrr77rvVq1evGt2jl5eXioqK9MMPP6isrEzh4eG6+eabL9mnb9++at68udzc3NS4cWNNmzat2j0qvXv3Vq9eveTm5iaz2SwvLy/l5ORo//79stvtaty48SXDSmJiooqLix1HTk5Oje4PAAAAuJpcFlZKSkp08uRJ2Ww2HTx4UJMmTZLVanUcb7zxhjIzMyVJCxcuVExMjO677z6FhYXpoYceUlZWliTpyJEjatGixQXnOHjwoLKyshQUFOQYt3Xr1vL29lZ6erqjXUREhFM/Pz8/FRYWSpIyMjIcwei8X76+mMGDB2v06NGaMmWKQkJC1LNnT0cIuph//vOf6tixo+rVq6eAgAANGTJEp0+fVkVFxUX7/LKeKVOmKCEhQaNGjZLNZlO/fv0uuZHf09NTvr6+TgcAAADgai4LK2+88YZMJpO6du2q8PBwvfjii8rLy3McRUVF+uCDDyRJNptNzz33nA4cOKBdu3YpLS1Nf/zjHyVJUVFRSklJueAc4eHhaty4sdO4eXl5Onv2rDp27FijOiMjI5WWluZ07pevL8bd3V2TJ0/W9u3bdezYMbVs2VL33HOPJMnNrepbn5GRoX79+mnChAlKT09XQUGBVq1aJUmy2+0XneeXY5nNZs2ZM0e7d+9WamqqPDw8NGzYsBrVDAAAABhFnYeVkydPaunSpfrDH/6gKVOmqFmzZvrDH/6gp556Sl999ZUqKyt17tw5ffXVV45ViDfffFOpqamqrKyUv7+/vL295eHhIUmaOHGiVqxYoTVr1qi0tFRnz57Vxx9/LEm67777VFZWppkzZyo/P1+SlJ2drbfeeqvG9Q4bNkzr1q3T+++/r4qKCr3//vuOEFWdTz75RF9//bVKS0vl4+Mji8Uid3d3SVJoaKjc3Nx04MABR/uioiJVVlYqJCREPj4+OnjwoJ5++uka13reunXrtHfvXpWXl8tsNsvX19fxfgEAAADXijoJKwsWLJDFYlFAQIB+97vf6YMPPtDrr7+upKQkST8FjtmzZ2vMmDEKDg5WgwYNNGXKFJ05c0bST5vQu3btKn9/fzVt2lRWq1ULFy6UJCUkJOiNN95QUlKSQkNDFRkZqaVLl0qS/P39tXXrVqWnpysuLk4BAQEWsJxsAAAgAElEQVTq2LGjPvvssxrX3rlzZ7388suaOHGirFarVqxYoREjRtSob3Z2toYPH67g4GCFhobq008/dXwrl6+vr+bPn69Ro0bJarVq3LhxuuGGG/T0009r6NCh8vf317BhwzR48OAa13rekSNH1KdPH1mtVjVo0EBZWVk1/lIAAAAAwChM9ks9X4TfpJKSEpnNZkmJkjxdXQ4uwW6f5eoSAAAAfrXznzuLi4svuG+aZ4NwUcXFiWy2BwAAgMu4bIP99SA9PV0Wi+WCR0038AMAAAC4MFZWrkCjRo1UVFTk6jIAAACA6xIrKwAAAAAMibACAAAAwJAIKwAAAAAMibACAAAAwJAIKwAAAAAMibACAAAAwJAIKwAAAAAMibACAAAAwJAIKwAAAAAMibACAAAAwJAIKwAAAAAMibACAAAAwJAIKwAAAAAMycPVBcC4zOZ5kjxdXQZ+w+z2Wa4uAQAAuBArKwAAAAAMibACAAAAwJAIKwAAAAAMibBSy0wmkzZt2vSr+sbHx2vGjBlXNL/FYtGWLVuuaAwAAADACK7rsPLdd9+pf//+ql+/viwWi6KiojRgwAB98803ri7tqikqKlJ8fLyrywAAAACu2HUbVrZs2aL27dsrLCxMW7duVWFhob799lv16NFDb7/9tqvLc4mKigpVVla6ugwAAACgRq7bsDJ69Gjdf//9Wrx4saKiomQymWS1WjVixAg9/fTTkqTk5GTFxsYqICBAsbGxWrlypaN/WlqaTCaTXnnlFd14443y8/NT586dlZGRob/97W9q3LixrFarRo8erYqKCqe59+zZo3bt2slisah9+/b6+uuva1x3YWGhBg4cqMDAQDVs2FAvvfSS49rx48d11113KSwsTP7+/rrxxhurBK+fP4a2ZcsWmUwmvfnmm2revLnMZrOys7OrzFlWVqaSkhKnAwAAAHC16zKsHDx4UCkpKRo6dOhF26xZs0a///3vtXjxYuXm5mrRokV69NFH9e677zq1e/PNN7Vp0yZlZWVJkrp166ajR48qJSVFX3/9td566y394x//cOrz4osvauXKlcrJyVGvXr3Us2dP5efn16j25ORkjRo1ylHT+PHjdejQIUk/rYyMGDFCqampOn36tCZOnKiBAwdq7969lxzzrbfe0tatW1VQUKDQ0NAq1+fNmyez2ew4bDZbjWoFAAAArqbrMqycXz2IjIy8aJuXX35ZI0eOVLdu3eTu7q7u3btr5MiRWrJkiVO7mTNnql69erJYLOrXr58yMjI0f/58eXt7KyYmRl26dNGOHTuc+kycOFGtWrWSt7e3nnjiCXl4eGjdunU1qr1v377q2rWr3Nzc1LdvXwUHB2vnzp2O+7nvvvtksVjk6empkSNHqlWrVvrkk08uOWZSUpJsNpu8vb3l7u5e5XpiYqKKi4sdR05OTo1qBQAAAK6m6zKs1KtXT5KUkZFx0TZHjx5V06ZNnc7FxMQoPT3d6Vz9+vUdf/bz81NoaKjTB34/Pz8VFhY69YmOjnb82c3NTY0bN9bRo0drVHtERITT65+Pn5ubq4cffljR0dEKCAiQ1WrV3r17L/ho18XquRBPT0/5+vo6HQAAAICrXZdhpVmzZmrevLlWrVp10TYNGzZUamqq07nU1FQ1atToiudPS0tz/LmyslLp6emXXOWpqWnTpmn//v369NNPlZ+fr7y8PLVu3Vp2u/2S/dzcrsu/ZgAAAFznrttPsUuXLtXbb7+tP/7xj/rxxx9lt9tVUFCg1157TYmJiRo1apReeeUVbdmyRRUVFfrkk0+0YsUKPfLII1c89+LFi7Vv3z6VlpZq3rx5Ki0tVe/eva943Pz8fMeekrKyMj3//PPV7lcBAAAArlXXbViJj4/X9u3bdezYMbVv397x7VkfffSR7r//fvXr10/PPvusxo0bJ6vVqgkTJmjx4sW67777rnjusWPHasiQIQoODta6dev0wQcfyGq1XvG4c+fOVUlJicLCwhQVFaWsrCx16tTpiscFAAAAjMhkr+4ZIvzmlJSUyGw2S0qU5OnqcvAbZrfPcnUJAADgKjr/ubO4uPiC+6av25UVAAAAANc2D1cX8FvSunVr/fjjjxe8duzYMQUGBtZxRZdWXJzIN4MBAADAZQgrdYjN8AAAAEDN8RgYAAAAAEMirAAAAAAwJMIKAAAAAEMirAAAAAAwJMIKAAAAAEMirAAAAAAwJMIKAAAAAEMirAAAAAAwJMIKAAAAAEMirAAAAAAwJMIKAAAAAEMirAAAAAAwJMIKAAAAAEPycHUBMC6zeZ4kT1eXAdSI3T7L1SUAAIBaxsoKAAAAAEMirAAAAAAwJMIKAAAAAEMydFj5/PPPZbFYVFFRcVn9li9frqioqKtT1FUUHx+vGTNmXNEYFotFW7ZsqZ2CAAAAABdyeVg5cuSIBgwYoIiICFksFkVERKhXr146fvy4unTpoqKiIrm7u0uSZs+erc6dO7u4YmMrKipSfHy8q8sAAAAArpjLw0qvXr3k7++v77//XkVFRdq1a5cefPBBmUwmV5d23amoqFBlZaWrywAAAABqxKVhJScnR/v379eYMWMUHBwsSQoLC9OwYcMUHh6uLVu2yGQyqby8XKtXr9b8+fO1detWWSwWWSwWff7555Kk9evXKy4uThaLRV27dtXRo0ed5jl79qwef/xxRUdHKygoSF26dNH27dslSXa7XaGhoVq/fr2jrdls1r333uvoP3bsWI0cOVKSlJycrMjISC1dulRRUVEKDAxUv379VFBQUKN73rdvn3r37q3w8HAFBgbqtttuc6q3sLBQAwcOVGBgoBo2bKiXXnrJce348eO66667FBYWJn9/f9144416++23ncY3mUzatGmTJDnevzfffFPNmzeX2WxWdnZ2lZrKyspUUlLidAAAAACu5tKwYrPZFBcXp9GjR+vVV1/Vnj17Lvov/4MGDdL06dPVoUMHFRUVqaioSF26dNGRI0fUu3dvTZgwQbm5uZo7d65efPFFp75TpkzRBx98oI0bNyorK0t9+vRR9+7dlZGRIZPJpG7dumnDhg2SpM8++0wNGjTQ5s2bVV5eLknauHGjEhISHOOdOHFC+/fv1759+7R//359++23evbZZ6u936ysLHXp0kWxsbFKSUnR6dOn9fzzz8vX19fRJjk5WaNGjVJubq4WLVqk8ePH69ChQ5J+WhkZMWKEUlNTdfr0aU2cOFEDBw7U3r17LznvW2+9pa1bt6qgoEChoaFVrs+bN09ms9lx2Gy2au8FAAAAuNpc/hjY5s2b1bNnT7300ktq3769QkJCNHnyZJ07d65G/f/+978rNjZWjzzyiDw9PdWxY0cNHTrUcb2yslIrVqzQ3LlzFRMTIy8vL02aNElNmjTR66+/LklKSEhwhJUNGzZo0KBBaty4sbZt26YjR47oyJEj6t69u2NMDw8PLViwQL6+vqpfv7769OmjHTt2VFvrqlWrFB4ervnz5ysgIEDu7u5q166dQkJCHG369u2rrl27ys3NTX379lVwcLB27twpSYqMjNR9990ni8UiT09PjRw5Uq1atdInn3xyyXmTkpJks9nk7e3t2P/zc4mJiSouLnYcOTk51d4LAAAAcLW5/BfsbTab5syZozlz5ujcuXP68MMPNWzYMFkslhptFM/IyFB0dLTTuZ+/PnXqlEpKStS0aVOnNjExMUpPT5f0U1gZOXKkjh8/rg0bNmjJkiU6c+aM1q9fr8jISN18881Oqw0hISHy9Pz/v+zu5+enwsLCams9cuSIWrRocck2ERERTq9/PnZubq6mTp2qTZs2KScnR25ubioqKrrgo10/98v355c8PT2d7gcAAAAwApevrPyct7e34xGtb775psp1N7eq5UZGRiotLc3p3M9fh4SEyMfHR6mpqU5tUlNT1ahRI8cYN9xwg1auXKmMjAzdeuutuvPOO7V+/Xpt2LBBPXr0uPKbkxQVFaWDBw/+6v7Tpk3T/v379emnnyo/P195eXlq3bq17Hb7Jftd6H0DAAAAjM6ln2Jzc3M1bdo07dmzR+fOnVNFRYU+/vhjbd68WbfffnuV9uHh4UpPT9fZs2cd5wYMGKDvvvtOy5cvV3l5ubZt26bXXnvNcd3NzU0jRozQE088ocOHD6u0tFTPPfecDh06pEGDBjnaJSQkKCkpSXfccYfc3d3VpUsX7du3r8p+lSsxdOhQZWRkaObMmSosLFRFRYW+/vprnTp1qkb98/PzHXtKysrK9Pzzz1e7XwUAAAC4Vrk0rHh5eenUqVPq16+fQkJCZLPZNHHiRD3++OOaNGlSlfYPPvigWrRooYiICFmtVn3xxRdq0qSJ1q5dq0WLFslqtWr69OkaO3asU7+FCxcqISFBd9xxh+rVq6c1a9Zo48aNatiwoaNNQkKC8vPzHcHE29tbnTt3VmVlpTp27Fgr9xsWFqbPPvtMO3fuVHR0tGw2myZMmOAUvi5l7ty5KikpUVhYmKKiopSVlaVOnTrVSm0AAACA0Zjs1T1DhN+ckpISmc1mSYmS2MuCa4PdPsvVJQAAgMt0/nNncXGx0zfknsdmBgAAAACG5PJvA7uefP755+rZs+cFr919991644036riiK1NcnHjBhAsAAADUBcJKLerSpYuKiopcXQYAAABwXeAxMAAAAACGRFgBAAAAYEiEFQAAAACGRFgBAAAAYEiEFQAAAACGRFgBAAAAYEiEFQAAAACGRFgBAAAAYEiEFQAAAACGRFgBAAAAYEiEFQAAAACGRFgBAAAAYEiEFQAAAACG5OHqAmBcZvM8SZ6uLgO4bHb7LFeXAAAAagErKwAAAAAMibACAAAAwJB+82Fl+fLlioqKcnUZkqTZs2erc+fOVzRGz5499dRTT9VSRQAAAIDruCysHDlyRAMGDFBERIQsFosiIiLUq1cvHT9+XFu2bJHJZFJ5ebmryrtmffjhh5o5c6arywAAAACumMvCSq9eveTv76/vv/9eRUVF2rVrlx588EGZTCZXlfSbUFZW5uoSAAAAgBpxSVjJycnR/v37NWbMGAUHB0uSwsLCNGzYMJWWlqpnz56SJKvVKovFovnz50uSnnjiCTVv3lz+/v5q2LChJkyYoOLiYse4w4cPV//+/TV+/HjZbDaFhYVVWWVYv3694uLiZLFY1LVrVx09etTpenx8vGbMmOF0LioqSsuXL5ckpaWlyWQyadmyZWrVqpUCAgLUrVs3paam1ujeT58+rXHjxik6Olr+/v664YYbtH79eqc2Tz75pOrXr6/g4GCNHj3aaYXpkUceUVRUlCwWi6KjozVr1ixVVlZetH6TyaTnnntOHTt2lJ+fn9asWVOjOgEAAABXc0lYsdlsiouL0+jRo/Xqq69qz549jg/cjRo10ocffihJysvLU1FRkaZPny5JatasmTZt2qSCggJ99NFH+vDDD6vsz1i7dq06d+6s7Oxsvfvuu0pKStLmzZsl/fToWe/evTVhwgTl5uZq7ty5evHFF3/VPSxbtkzr16/XiRMnFB0drbvvvrvax9bsdrv69OmjtLQ0ffrppyooKNAHH3yghg0bOtps375dfn5++vHHH7Vt2za9/fbbWrVqleN6+/bttX37dhUWFuqNN97Q3/72Ny1btuyS8y5dulTLly9XUVGR7rnnnirXy8rKVFJS4nQAAAAAruayx8A2b96snj176qWXXlL79u0VEhKiyZMn69y5cxftM2TIEDVq1Egmk0mtW7fWo48+qg0bNji16dSpk/r37y93d3d16NBBN910k3bs2CFJ+vvf/67Y2Fg98sgj8vT0VMeOHTV06NBfVf/MmTPVsGFDmc1mPffcc0pJSdHWrVsv2Wfnzp364osvtHLlSsd9NGnSRK1atXK0adiwoSZPniwvLy81b95c3bp1c9QvSaNGjVJYWJhMJpNuu+02DR48uMp78EuPPfaYWrVqJZPJJF9f3yrX582bJ7PZ7DhsNttlvhsAAABA7as2rOTn5zv+pb2yslIrVqzQypUrr3him82mOXPmaMeOHcrPz9crr7yiZcuW6emnn75on6VLl+rmm2+WzWZTYGCgEhMTlZ2d7dQmIiLC6bWfn58KCwslSRkZGYqOjna6/svXNfXzfv7+/goJCanySNkvHTlyREFBQQoNDb1om0vVb7fbNW/ePLVu3VpBQUGyWq1aunRplffgUrVeSGJiooqLix1HTk7OJdsDAAAAdaHasHLXXXdpz549kqQ5c+YoMTFRiYmJtfqNU97e3urTp4+6d++ub775Rm5uVcvaunWrxo8fr2effVYnTpxQfn6+5s2bJ7vdXuN5IiMjlZaW5nTul6/9/f115swZx+vy8vILhoGf9ysqKtKpU6cUGRl5yfmjoqKUm5urU6dO1bjmn3vzzTe1aNEivfbaazp16pTy8vI0evToat+DC72fP+fp6SlfX1+nAwAAAHC1asPKvn37dMstt0j66TGqDRs26PPPP3faR3G5cnNzNW3aNO3Zs0fnzp1TRUWFPv74Y23evFm33367wsPDJUkHDhxw9MnPz5e7u7tCQ0Pl6empb775Rn/7298ua94BAwbou+++0/Lly1VeXq5t27bptddec2rTtm1brVu3TpmZmSopKdG0adMu+A1ac+fOVUZGhoqLizVp0iTFxMSoY8eOl5y/bdu26tixox566CFlZGRI+mm1Zd++fTWqPz8/Xx4eHqpXr55MJpM2b96s119/vYZ3DwAAAFxbqg0rFRUV8vDwUGZmpgoLC3XjjTcqOjr6ih4V8vLy0qlTp9SvXz+FhITIZrNp4sSJevzxxzVp0iQ1b95cEyZM0B133CGr1aqkpCQlJCRozJgxio+PV2BgoKZPn65hw4Zd1rxNmjTR2rVrtWjRIlmtVk2fPl1jx451avPYY4/plltuUcuWLdWiRQvFxMSoQYMGVcYaOXKkevToobCwMKWkpOjf//63PDw8Ljm/yWTSv/71L9WvX18dOnSQv7+/evXqVe3jY+cNHz5c3bp1U1xcnEJCQrRkyRINHjy45m8AAAAAcA0x2at5hqhdu3YaP368UlNTlZqaqtWrV+vUqVOKjY3ViRMn6qpOw0hLS1N0dLQOHjyomJgYV5dzVZSUlMhsNktKlOTp6nKAy2a3z3J1CQAAoAbOf+4sLi6+4FaESy8FSFqwYIGGDBkib29vrVu3TpL03nvvqW3btrVfLQAAAAD8V7Vh5Y477nDsrzhv0KBBGjRo0FUr6lpmsVgueN5qtVZ5HwEAAABcXLWPgR08eFBWq1WhoaE6c+aMkpKS5OnpqalTp8rHx6eu6kQdqm45DgAAAKgN1X3urHaD/cCBA3X8+HFJ0owZM7R27Vr985//1KRJk2q/WgAAAAD4r2pXVoKDg3Xq1Cm5ubmpUaNG2rJliywWi373u9/p2LFjdVUn6hArKwAAAKgLV7zB3m63y2Qy6fDhw3Jzc1OTJk0kSQUFBbVfLQAAAAD8V7VhpU2bNpo3b57S09OVkJAgSTp27JgCAgKuenEAAAAAfruqDSt//etfNW7cOHl7eys5OVmStGnTJvXo0eNq1wYAAADgN6zaPSv47WHPCgAAAOrCFe9ZOe/MmTPKzs7Wz7PN+f0rAAAAAFDbqg0raWlpGjhwoLZv317lWkVFxVUpCgAAAACq/Z2ViRMnKjQ0VF9//bUsFot27typnj176tVXX62L+gAAAAD8RlW7Z6VevXrav3+/goODZbValZeXp8zMTP3f//2fdu3aVVd1og6xZwUAAAB14Yp/wb68vFzBwcGS5BgoIiJCqamptV8tAAAAAPxXtXtWmjRpou+++05xcXFq1aqVlixZIqvVKpvNVhf1AQAAAPiNqjasTJs2TcePH1dcXJxmzpypu+++W2fPntXy5cvroj4AAAAAv1GX/TsrZWVlKi0tlZ+f39WqCS7GnhUAAADUhVr7nZXzPD095enpWSvFwdjM5nmS+LsGaspun+XqEgAAuK5cMKw0bNhQJpOp2s7p6em1XhAAAAAASBcJK3Pnzq3rOgAAAADAyQXDyrBhwxx/XrVqleLi4nTTTTc5zu3atUs//PDD1a8OAAAAwG9Wtb+z8uSTTyo8PNzpXP369TVr1m/r2ezhw4dr8ODBri6jWmlpaTKZTDp06JCrSwEAAACuSLVhJTs7u0pYCQ8PV1ZW1lUrqjrx8fHy8vKSxWKRxWJRgwYNNH78eJWUlLispktJTk5WZGRkrY87e/Zsde7cudbHBQAAAIyg2rBSv359paSkOJ1LSUlRvXr1rlpRNTF16lQVFRWpqKhIX375pT7++GPNmTPngm1LS0vruDoAAAAAV6rasNKvXz8NHTpUu3bt0pkzZ7Rr1y4NHz5cDzzwQF3UVyNRUVH63//9X+3Zs0eSHPWNHTtWoaGhuueeey74eNSWLVtkMplUXl4uSdq8ebPatm2rwMBA2Ww2derUSbm5uY725eXlGj9+vGw2m8LCwjRz5sxqa/v88881ZswYZWZmOlaCVq9eLUk6duyYBg4cqAYNGqhevXoaMGCATp486eh79uxZTZ8+XU2bNlVQUJBuv/127dq1S5K0evVqzZ8/X1u3bnWM+/nnnzv6fvnll2rTpo38/f112223XXKPUVlZmUpKSpwOAAAAwNWqDSszZsxQTEyMbrnlFgUEBKht27Zq0qSJnnjiibqor0ZSU1P14Ycf6vbbb3ecW7t2rdq1a6fMzEytWbOmRuMMHjxYjz76qPLy8nT8+HEtXLhQXl5eTmN27txZ2dnZevfdd5WUlKTNmzdfcswuXbpoyZIlioiIcKwEDRo0SOfOnVO3bt0UERGhlJQUHT58WB4eHho4cKCj75gxY7Rjxw59+umnOnnypB544AHdeeedysvL06BBgzR9+nR16NDBMW6XLl0cfVetWqWPPvpIJ0+eVGRkpMaOHXvRGufNmyez2ew4bDZbjd4vAAAA4GqqNqz4+Pjo9ddf18mTJ7V9+3ZlZWXp9ddfd/kvmy9cuFBWq1UWi0UxMTGqV6+exo0b57jetm1bjRgxQp6enjKbzTUa08vLS6mpqcrMzJSXl5c6dOggPz8/x/VOnTqpf//+cnd3V4cOHXTTTTdpx44dv6r+999/X4WFhXrmmWfk5+cni8WipKQkbdq0SRkZGcrJydHKlSv1wgsvKDIyUh4eHho/frwCAwP13nvvVTv+E088ofr168vHx0cPPfSQvvrqq4u2TUxMVHFxsePIycn5VfcEAAAA1KZqw8p5NptNbdu2VUhIyNWsp8YmT56svLw8FRUVKTs7W2FhYbrzzjsd16Ojoy97zHXr1unw4cO65ZZbFBMTo1mzZjkeEZOkiIgIp/Z+fn4qLCz8VfUfPHhQWVlZCgoKktVqldVqVevWreXt7a309HTH42q33nqr47rVatWxY8eUkZFR7fg/r9XPz08lJSVO9/Jznp6e8vX1dToAAP+vvTuPjqrK1z7+VEgCqVQlFRIgQBhlUDAEZJBRkEmhGQRxqQyCNNAITrdbWi5B4SpBGmkbpNV4ZZ4UUUFa0TYoAW1AwQuCqBCZAjImZKQKMu33D5t6rSaBKIE6hO9nrbMWOXuffX6VnFXJwz77FADA34r9nJXrTZUqVTR8+HD17dvXOysQEOCbw5xOpyTp7Nmz3n3Hjh3z6RMbG6sVK1ZIknbu3Km77rpLMTExGj169BXV95+1SD8/Ua1OnTrav39/scccPnxYkrRr1y7Vrl271OMCAAAA5UW5+Gs3IyNDS5cuVa1atUpcbxEZGal69epp3rx5Kigo0IEDBzRr1ixve15enhYuXOhd4B4eHq4KFSooMPDK81x0dLTS0tJ8bq8aOHCg8vPz9cwzzygrK0vSz4+JXrlypSSpTp06uueeezR+/HhvcMnJydFHH32k48ePe8dNTU3VuXPnrrhGAAAAwGqu27Ayc+ZM71OwGjVqJLfbrY8++uiSxyxZskTJyclyuVwaOnSoRo0a5dP+zjvvqGnTpgoNDVXnzp01YsQIDR8+/Ipr7dq1q/r3769GjRrJ5XJpxYoVcjqd2rJli1JTUxUbG6uwsDC1b99emzZt8h63YsUKtWzZUj169JDT6VTjxo31xhtvyBgjSbr//vvVuHFj1ahRQy6XS1988cUV1woAAABYhc1c+MsX+DePx/PvhxLESwrydznAdcOYKf4uAQCA68qFvzvdbnex66av25kVAAAAAOVbuVhg72/Tp0/X9OnTi22bOXOmzyOVrydudzxPBgMAAIDfcBsYLnK56TgAAACgLHAbGAAAAIDrEmEFAAAAgCURVgAAAABYEmEFAAAAgCURVgAAAABYEmEFAAAAgCURVgAAAABYEmEFAAAAgCURVgAAAABYEmEFAAAAgCURVgAAAABYEmEFAAAAgCURVgAAAABYUqC/C4B12e0JkoL8XQZQ7hgzxd8lAABwXWBmBQAAAIAlEVYAAAAAWBJhBQAAAIAlEVYAAAAAWNING1a6dOmi4OBgORwOn23lypWXPfbQoUOy2Wz68ccfr0Glv92iRYsUExPj7zIAAACA3+SGfhrYn//8Z02bNs3fZQAAAAAoxg07s3Ip3377rbp166YqVaooPDxct99+uz777DNve9OmTSVJcXFxcjgcGjt27GXHtNlsmjNnjtq1a6fQ0FDFxcVp9+7dWrVqlRo3bqywsDANGjRIubm53mMyMzP1yCOPqE6dOoqMjFTv3r114MABb/uqVavUsmVLRUREKCoqSv369dPBgwclSZ9//rnGjh2rY8eOeWeNli9fXmxt+fn58ng8PhsAAADgb4SVEkycOFGpqak6deqUevXqpQEDBujUqVOSpD179kiSvvnmG+Xm5ioxMbFUYy5atEgrVqxQRkaGGjdurHvuuUfr1q3T9u3blZKSoh07dmju3LmSJGOMBgwYoOzsbKG7ZeAAACAASURBVO3YsUPHjh1TbGys+vTpo/z8fEmS0+nUggULlJaWph9++EHGGA0ePFiS1KlTJyUmJqpGjRrKzc1Vbm6uhgwZUmxdCQkJstvt3i0yMvKKvncAAABAWbAZY4y/i/CHLl26aOvWrapUqZLP/m3btqlhw4YX9Xe5XFq6dKn69u2rQ4cOqV69ekpJSVGDBg1KdT6bzaYlS5Zo2LBhkqT3339f99xzj44dO6bq1atLkh577DEdPXpUq1ev1v/93/+pbdu2OnPmjBwOhySpsLBQDodDSUlJ6tix40Xn2LFjh2677TZlZ2fL6XRq0aJFmjx5so4ePXrJ2vLz81VQUOD92uPx/DuwxIsPhQTKHh8KCQDAzzwej+x2u9xut0JCQi5qv6FnVp566illZmb6bA0bNlRqaqoeeOAB1a5dW2FhYXK5XMrOzvbOrPxWF0KJJIWGhha7LycnR5KUkpKigoICxcTEyOVyyeVyeWc8jhw5IknauHGjunXrpurVqyssLEydO3eWpF9dZ1BQkEJCQnw2AAAAwN9u6AX2JRk9erTCw8O1bds2VatWTcYYRURE6MIkVEDA1c940dHRCg4O1unTpxUUdPHsRl5envr06aNnn31Wa9askdPp9M6sXMs6AQAAgKuFv2aLkZWVJYfDoYiICJ09e1b//d//7bPwvUqVKgoICNDevXuvWg0dO3bUrbfeqkceecQ7U5KRkaF3331XbrdbeXl58ng8ioiIkNPp1LFjxzR58mSfMaKjo5WWlqb09PSrVicAAABwtdzQYWXmzJkXfc7KzJkz9fLLL+ubb75RRESEmjRpopo1a/p8XklISIimT5+uUaNGyeVyady4cWVeW4UKFZSUlCS73a7bb79dTqdTcXFxWr16tWw2mxwOh+bNm6dp06bJ4XCoV69euu+++3zG6Nq1q/r3769GjRrJ5XJpxYoVZV4nAAAAcLXcsAvsUbILC51YYA9cHSywBwDgZyywBwAAAHBdYoF9GUhNTVWTJk2KbWvWrJk2b958jSsqG253PE8GAwAAgN8QVspA7dq1fRbgAwAAALhy3AYGAAAAwJIIKwAAAAAsibACAAAAwJIIKwAAAAAsibACAAAAwJIIKwAAAAAsibACAAAAwJIIKwAAAAAsibACAAAAwJIIKwAAAAAsibACAAAAwJIIKwAAAAAsibACAAAAwJIC/V0ArMtuT5AU5O8yAJQTxkzxdwkAgOsMMysAAAAALImwAgAAAMCSCCsAAAAALKnchZVFixYpJibG+/XYsWM1atSoKxqzS5cumjx58pWWVmYcDoeSk5P9XQYAAABwVV2XC+x3796thIQEbdy4UTk5OYqKilK7du00YcKEi/omJib6ocLSGTFihAoKCrRs2bJfdVxubu5VqggAAACwjutuZiU5OVlt2rRRtWrVtGXLFuXk5Gjnzp3q0aOHVq1a5e/y/K6wsFBFRUX+LgMAAAC4YtddWPnDH/6gQYMGac6cOapbt65sNptcLpdGjhypF1544aL+I0aM0NChQ71f161bV1OnTtVdd90lh8Ohhg0b6rPPPlNycrKaNWsmp9Op7t2768SJEz7jZGZmauDAgXI6nWrQoIGWLFlSqno3bNigVq1aKTw8XJGRkerQoYMyMjI0ffp0LV++XCtXrpTD4ZDD4VBqaqqOHz+uPn36qFq1anI6nWrWrNlFIcxms2n9+vWSfg5vNptNb731lho1aiS73a5Tp07p7bffVtOmTRUWFqaoqCh17969xBrz8/Pl8Xh8NgAAAMDfrquwkpKSon379umhhx66onEWLlyomTNnKisrS/369dOQIUP08ssv69NPP9WxY8fkdrs1ZYrv5wHMnz9fDz/8sDIyMvTyyy9r1KhR+te//nXZcw0dOlTjx49XZmamjh8/rlmzZik4OFiTJk3SkCFDdP/99ys3N1e5ubmqXbu2CgsLNXLkSO3fv19nzpzRE088ocGDB2vPnj2XPM/KlSu1ZcsWZWdny+l0aujQoZo7d66ys7N19OhRTZo0qcRjExISZLfbvVtkZGTpvpEAAADAVXRdhZVTp05Jks8C+t9i1KhRiouLU4UKFfTQQw/pxIkTmjBhgqpUqSKn06l7771XX331lc8xvXv3Vt++fRUYGKjevXtrwIABWrBgwWXPFRwcrP379+vYsWMKDg5Wu3btFBoaWmL/mJgYDRw4UA6HQ0FBQfr973+vJk2a6LPPPrvkeWbMmKHIyEhVrFhRNptNQUFB+v7775WWlqZKlSqpa9euJR4bHx8vt9vt3dLT0y/7ugAAAICr7boKK1WrVpUkHT169IrGqV69uvffF4LDf+7LycnxOaZevXoXfX3kyJHLnmvt2rU6cOCAWrZsqQYNGmjKlCkqKCgosX9GRoZGjx6tevXqKSwsTC6XS3v27PEGtZL8sj673a6PP/5Y69evV+PGjRUbG6s5c+aUeGxQUJBCQkJ8NgAAAMDfrqungTVs2FCNGjXS0qVL1aNHj2t67kOHDl30dWlmeGJjY7VixQpJ0s6dO3XXXXcpJiZGo0ePVkDAxVlx4sSJ+uGHH7Rx40bVqlVLNptNcXFxMsZc8jz/OVanTp3UqVMnGWO0ceNG3X333WrSpMk1/74BAAAAv9V1NbMiSa+//rpWrVqlP/7xjzp8+LCMMcrOztaSJUsUHx9/1c67bt06ffjhhyosLNTHH3+s1atX6+GHH77kMXl5eVq4cKFOnz4tSQoPD1eFChUUGPhzRoyOjtb+/ftVWFjoPSYrK8u7biQ/P19z58697HqV/3TixAmtWrVKmZmZ3gcQ2Gw273kBAACA68F1F1a6dOmiL7/8Uj/99JPatGnjfWLWxx9/rEGDBl21844cOVLz58+Xy+XS+PHjlZiYqE6dOl32uHfeeUdNmzZVaGioOnfurBEjRmj48OGSpDFjxkiSoqKi5HK5lJqaqmnTpsnj8ahatWqqW7euTp48qQ4dOvyqWo0xSkxMVP369eVwODRo0CAlJCTozjvv/PUvHAAAAPATm7nc/UW44Xg8HtntdknxkoL8XQ6AcsKYKZfvBAC4oVz4u9Ptdhe7bvq6m1kBAAAAcGNgEcMVGjt2rJYtW1Zs21tvvaU+ffpc44rKjtsdz5PBAAAA4DfcBoaLXG46DgAAACgL3AYGAAAA4LpEWAEAAABgSYQVAAAAAJZEWAEAAABgSYQVAAAAAJZEWAEAAABgSYQVAAAAAJZEWAEAAABgSYQVAAAAAJZEWAEAAABgSYQVAAAAAJZEWAEAAABgSYQVAAAAAJYU6O8CYF12e4KkIH+XAeAGY8wUf5cAALAIZlYAAAAAWBJhBQAAAIAlEVYAAAAAWBJhBQAAAIAllZuw0qVLFwUHB8vhcCgsLEy33nqr5s+f7++yysSiRYsUExPj7zIAAACAa6rchBVJ+vOf/6zc3FxlZGRo4sSJGjVqlJKTk6/KufLz86/KuFdTXl6ev0sAAAAASq1chZULKlSooKFDhyoyMlJff/21MjMzNWbMGMXExCgqKkq9evXS3r17vf1HjBihoUOH+ozRpUsXTZ482fu1zWbT3/72N7Vv316hoaF69913Szz/7t27FRwcrNzcXEnSxo0bZbPZNGfOHG+fW265RUuXLpUkrVq1Si1btlRERISioqLUr18/HTx4UJL0+eefa+zYsTp27JgcDoccDoeWL18uSfrpp580ePBg1axZU1WrVtWDDz6o06dP+7yGRx99VA888IAiIiL0+OOPF1tvfn6+PB6PzwYAAAD4W7kMKwUFBVq6dKnOnDmj1q1ba9iwYUpJSdH27duVmpqqxo0bq3v37t4wUVqvv/665s2bp9zcXPXv37/EfrGxsYqMjNSGDRskSf/85z/VsGFDffLJJ5Kko0ePau/everRo4ckyel0asGCBUpLS9MPP/wgY4wGDx4sSerUqZMSExNVo0YN5ebmKjc3V0OGDNH58+fVrVs31ahRQ/v27dOBAwcUGBjoPe6ChQsX6qGHHlJ6erpeeumlYutNSEiQ3W73bpGRkb/q+wIAAABcDeUqrMyaNUsul0vR0dGaPXu2Fi5cqIYNG+qDDz7Q7NmzFR0dLbvdrhdffFEej0cffPDBrxr/v/7rv9SkSRPZbDaFhIRcsm+PHj284eSTTz7R9OnTtWnTJp0/f16ffPKJYmNjFR0dLUm6++67FRcXpwoVKigqKkrPPfectm7dqpycnBLH//DDD5WTk6MXX3xRoaGhcjgcmjFjhtavX6+jR496+/Xr10+9e/dWQECA7HZ7sWPFx8fL7XZ7t/T09F/1fQEAAACuhnL1CfZPPfWUpk2b5rPvq6++kiTddNNN3n1BQUGqU6eOUlNTf9X49erVK3Xfnj176vnnn1d6erpSUlLUr18/3Xzzzfriiy+UlJSknj17evtu3LhRzz33nL777judPXvWu//UqVNyOp3Fjp+SkqKTJ08qIiLCZ3/FihWVmprqXZBfmpqDgoIUFMQn1QMAAMBaytXMSnFq1aolSdq/f793X0FBgVJTU1W7dm1JP9+G9cuQIEnHjh27aKyAgNJ/u7p3766UlBS98cYbuuOOOxQcHKy77rpLH330kdavX++9BSwvL099+vTR3XffrX379ik7O1sbN26UJBljSjxvdHS06tSpo8zMTJ/t3Llzat++/W+qGQAAALCScv+XbPXq1dW7d2/96U9/0smTJ+XxePT0008rODhYv/vd7yRJrVq10oYNG/TDDz8oPz9fs2fP9i5w/62io6MVGxurGTNmeGdRevbs6V3zcscdd0j6Oax4PB5FRETI6XTq2LFjPgv7L4yVlpbmc3vWwIEDlZ+fr2eeeUZZWVmSfp6JWbly5RXVDQAAAFhFuQ8rkrR06VLVrVtXt912m2JiYrRnzx6tX7/ee4vVkCFD9MADD6h9+/aqVauWMjMz1aFDhys+b8+ePZWVleUNK+3atVNRUZE6deqkSpUqSZIcDofmzZunadOmyeFwqFevXrrvvvt8xunatav69++vRo0ayeVyacWKFXI6ndqyZYtSU1MVGxursLAwtW/fXps2bbriugEAAAArsJkL9xoB/+bxeP69GD9eEmtZAFxbxkzxdwkAgGvkwt+dbre72AdY3RAzKwAAAACuP+XqaWDXUq9evfT5558X27ZlyxbFxsZe44rKntsdf9lHNAMAAABXC2HlN/roo4/8XQIAAABQrnEbGAAAAABLIqwAAAAAsCTCCgAAAABLIqwAAAAAsCTCCgAAAABLIqwAAAAAsCTCCgAAAABLIqwAAAAAsCTCCgAAAABLIqwAAAAAsCTCCgAAAABLIqwAAAAAsCTCCgAAAABLCvR3AbAuuz1BUpC/ywAAH8ZM8XcJAIBrhJkVAAAAAJZEWAEAAABgSYQVAAAAAJZ0w4eVpk2bavHixaXuP2LECA0dOvSq1DJ16lR17NjxqowNAAAAXG/KxQL7Ll26aPPmzapYsaICAgIUFhamli1bavTo0frd7353yWP37NlzjaoEAAAA8GuUm5mVP//5z8rJyVFWVpa+/vpr9ezZUw888IDi4+OL7Z+Xl3eNKwQAAADwa5SbsPJLVatW1bhx4zR79mzNmDFDP/74o/cWq2eeeUY1atRQ8+bNJUl169bVvHnzJEmHDh2SzWbT4sWLFRcXJ6fTqbZt2+q7774r8VwLFixQ9erVtXHjxsvW9dVXX6l169ZyOp1q1aqVXnrpJdlsthL7v/LKK7r11lsVFham6OhoDRs2TGlpad72DRs2qFWrVgoPD1dkZKQ6dOigjIwMSdLbb7+tpk2bKiwsTFFRUerevXuJ58nPz5fH4/HZAAAAAH8rl2HlgsGDB0uSPv30U0nS1q1bFRQUpAMHDmj79u0lHrd06VJ9/PHHOn36tGJiYvTII49c1KeoqEgTJkzQX/7yF33++efq3LnzJWvJzMxUr1691LdvX6Wnp2vZsmVKTEy85DHR0dF67733lJmZqS+//FL79u3TY4895m0fOnSoxo8fr8zMTB0/flyzZs1ScHCw3G63hg4dqrlz5yo7O1tHjx7VpEmTSjxPQkKC7Ha7d4uMjLxkXQAAAMC1UK7DSkhIiKKiopSeni5Jqlatmp555hlVqlRJdru9xOOeffZZVa9eXZUqVdLDDz+sbdu2+bTn5ubqnnvu0ddff62tW7eqQYMGl63lgw8+UFBQkCZPnqzg4GDdfPPNevzxxy95zL333qtGjRopICBAderU0cSJE/XJJ59424ODg7V//34dO3ZMwcHBateunUJDQyVJQUFB+v7775WWlqZKlSqpa9euJZ4nPj5ebrfbu134fgEAAAD+VK7Disfj0enTp70zBXXq1LnkbVcX1KhRw/vv0NBQeTweFRQUePdt3bpV69at07Rp0xQREVGqWn766SfVqlVLAQH//1tet27dSx7z3nvvqX379qpatarCwsI0bNgwnTlzRoWFhZKktWvX6sCBA2rZsqUaNGigKVOmqKCgQHa7XR9//LHWr1+vxo0bKzY2VnPmzCnxPEFBQQoJCfHZAAAAAH8r12HlzTfflM1m884q/DIoXInu3btr3rx56tOnjz777LNSHVOzZk0dOXJERUVF3n2HDx8usf/Ro0d133336bHHHlNqaqqys7O1dOlSSZIxRpIUGxurFStW6MSJE3rnnXeUmJiohQsXSpI6deqk1atXKy0tTXPnztXTTz+tpKSk3/qSAQAAgGuuXIaV06dP6/XXX9eTTz6pCRMmqGHDhmV+jhEjRmjRokUaOHCg3nvvvcv279Onj/Ly8vTCCy8oLy9P+/bt08svv1xi/9zcXBUVFSkqKkqVKlVSSkqKXnjhBW97Xl6eFi5cqNOnT0uSwsPDVaFCBQUGBurEiRNatWqVMjMzZbPZ5HK5ZLPZFBhYLp5UDQAAgBtEuQkrM2fOlMPhUFhYmFq0aKF169Zp2bJlmjFjxlU7Z79+/bR27VqNHj3a+0SxkrhcLq1bt06rV69W5cqVNXjwYI0cOVIVK1Ystv/NN9+sF154QQ899JCcTqeGDx9+0YdRvvPOO2ratKlCQ0PVuXNnjRgxQsOHD5cxRomJiapfv74cDocGDRqkhIQE3XnnnWX22gEAAICrzWYu3FOEa2727Nl67bXXtHfvXn+X4sPj8fz7AQTxkoL8XQ4A+DBmir9LAACUkQt/d7rd7mLXTZebmZXrwaeffqojR47IGKPt27dr1qxZGjJkiL/LAgAAACyJRQxlJDU1VU2aNCm2rVmzZtq8ebN++OEHDRs2TJmZmapataqGDh2qp59++hpXWnpudzxPBgMAAIDfcBsYLnK56TgAAACgLHAbGAAAAIDrEmEFAAAAgCURVgAAAABYEmEFAAAAgCURVgAAAABYEmEFAAAAgCURVgAAAABYEmEFAAAAgCURVgAAAABYEmEFAAAAgCURVgAAAABYEmEFAAAAgCURVgAAAABYEmEFAAAAgCUF+rsAWJfdniApyN9lAMBVZ8wUf5cAACgGMysAAAAALImwAgAAAMCSCCsWY7PZtH79+jIdc/LkyerSpUuZjgkAAABcbeU2rOzevVuDBw9WjRo1FBoaqpiYGHXr1k0LFy4s1fGHDh2SzWbTjz/+eJUrBQAAAFCcchlWNmzYoDZt2qhKlSr64osvlJOTo/379ys+Pl5r1qzxd3kAAAAASqFchpU//OEPuv/++zVnzhzVr19fAQEBqlixorp27ar333/f22/dunW6/fbbFRERoYYNG+rll1/2tjVt2lSSFBcXJ4fDobFjx0qS6tatq3nz5vmc75e3biUnJ8tms2n58uWqX7++XC6XBgwYoFOnTpW6/l27dql169ZyOBxq06aNtm/f7tO+ZMkSxcXFKTw8XE2bNtVbb73l07506VI1bNhQTqdTAwcOVGZm5iXPl5+fL4/H47MBAAAA/lbuwsq+ffuUkpKioUOHXrLfhg0bNHjwYE2fPl3p6elavXq1XnzxRS1fvlyStGfPHknSN998o9zcXCUmJv6qOt58801t375dBw8eVF5e3mXr+aVXX31VixcvVnp6unr37q1evXopKytLkrRo0SJNnjxZ8+fPV0ZGhl5//XWNGTNGX3zxhSRp8+bNGjlypF566SVlZGTo4Ycf1vz58y95voSEBNntdu8WGRn5q14rAAAAcDWUu7By+vRpSVLNmjW9+3bv3i2XyyWXy6VKlSpp06ZN+tvf/qZHHnlE3bp1U0BAgG699VaNHTu21GtaLueFF15Q5cqVFRERoVmzZikpKUlHjhwp1bFPPPGEmjRpoooVK+rZZ59VYGCg1q5dK0l66aWXFB8fr1atWikgIEAdO3bU/fffr0WLFkmSFi5cqH79+qlv374KDAxU37591bt370ueLz4+Xm6327ulp6df0WsHAAAAykK5+1DIKlWqSJKOHj2qW265RZIUGxurzMxMFRQUKCgoSEVFRUpJSdH69ev12muveY8tLCxU7dq1y6SOevXqXfTvI0eOqFatWr/q2ICAANWpU8cbdFJSUvSnP/1JTz/9tLdPQUGB7rjjDkk/v+4Lt7D9crxLBZCgoCAFBfHhjwAAALCWcjez0qhRIzVo0MB7O1dJoqOjNXHiRGVmZnq3nJwc7+1fAQHFf2ucTqfOnj3r/frYsWPF9jt06NBF/46JiSnVa/jlsUVFRUpNTfUeGx0drVdffdWn7tzcXK1bt857jl8e/5/jAQAAANeLchdWJCkxMVFvvfWWnnzySR08eFBFRUXKz8/Xxo0bvX2eeOIJzZ07V59++qkKCgpUUFCgb7/9Vps2bZL08wxNQECA9u7d6zN2q1at9OabbyozM1PZ2dmaOHFisTVMmjRJZ86cUWZmpiZMmKCuXbuWetZmzpw5+v7775WXl6eEhATl5eWpX79+kqQnn3xSzz//vLZt26aioiKdP39e27Zt09dffy1JGj58uNauXasPP/xQhYWF+vDDD71BBgAAALielMuw0q1bN3355Zc6ceKE2rdvL4fDoXr16ikhIUFLly5Vhw4ddM8992jp0qV69tlnVbVqVVWtWlWjRo1SWlqaJCkkJETTp0/XqFGj5HK5NG7cOEnStGnTFBYWplq1aqlly5YaMGBAsTXcf//9atWqlerUqaOAgIDLzvT80iOPPKJhw4apcuXKWrt2rdatWyeXyyXp55A1depUjR07VpUrV1bNmjU1YcIE72xPx44d9b//+7964okn5HK5NH/+fI0cOfJKvp0AAACAX9iMMcbfRZQnycnJuvPOO5Wfn6/AwOtzSZDH45HdbpcUL4m1LADKP2Om+LsEALghXfi70+12KyQk5KL2cjmzAgAAAOD6d33+1/91KjU1VU2aNCm2rVmzZtq8efM1rujS3O74YhMuAAAAcC1wGxgucrnpOAAAAKAscBsYAAAAgOsSYQUAAACAJRFWAAAAAFgSYQUAAACAJRFWAAAAAFgSYQUAAACAJRFWAAAAAFgSYQUAAACAJRFWAAAAAFgSYQUAAACAJRFWAAAAAFgSYQUAAACAJRFWAAAAAFgSYQUAAACAJQX6uwBYl92eICnI32UAAADgKjJmir9LKBEzKwAAAAAsibACAAAAwJIIK+VAcnKybDabCgoKJElTp05Vx44d/VwVAAAAcGUIK9fY3LlzFR0dLWOMd99nn30mm82m5557zqfvwIEDNWTIkGtdIgAAAGAJhJVrrEePHjp58qR2797t3ZeUlKRbb71V69ev9+4rLCzUhg0b1LNnT3+UCQAAAPgdYeUau/nmm1W7dm0lJSV59yUlJWnq1Kn6+uuvlZubK0natm2bMjMz1b17dyUnJ6t9+/aKjIxURESEunbtqp07d5b6nOvWrVN0dLRWrVpVbHt+fr48Ho/PBgAAAPgbYcUPevTo4Q0r6enp+u6779S7d2+1aNFCycnJkn4OME2aNFHNmjUVFBSkWbNm6fjx40pNTVWDBg3Uv39/5eXlXfZcs2fP1pgxY7R27Vrdd999xfZJSEiQ3W73bpGRkWX2WgEAAIDfirDiBz179tSmTZt0/vx5ffrpp2rbtq1CQkLUvXt3b4hJSkry3gLWoUMHtW/fXsHBwXI6nfrLX/6i1NRU7d27t8Rz5Ofna8yYMVqwYIE2b96sNm3alNg3Pj5ebrfbu6Wnp5ftCwYAAAB+A8KKH3Tr1k3nz5/Xv/71LyUlJal79+7e/UlJScrNzdXWrVvVo0cPSdKuXbvUt29f1axZU2FhYapXr54k6dSpUyWe48cff9SiRYsUHx+v2rVrX7KeoKAghYSE+GwAAACAvxFW/CAyMlK33XabkpKSfMJK27ZtdeTIES1btkw2m02dO3eWJN1333266aab9O233yo7O1sHDx6UJJ8niv2nW265Rf/4xz80duxYrVix4uq/KAAAAKCMBfq7gBtVz549tXDhQnk8HrVq1UrSzzMcnTp10nPPPaf27dsrNDRUkpSVlaWwsDCFh4frzJkzeuqpp0p1jrvuuksfffSR+vbtqzNnzujRRx+9aq8HAAAAKGvMrPhJz549dfz4cd15550KCPj/P4bu3bvr+PHj3lvAJGnBggVatWqVnE6n2rZtq169epX6PG3btlVycrJmzJihqVOnluVLAAAAAK4qm7nUvUS4IXk8HtntdknxkoL8XQ4AAACuImOm+O3cF/7udLvdxa6bZmYFAAAAgCWxZgUlcrvjeTIYAAAA/IaZFQAAAACWRFgBAAAAYEmEFQAAAACWRFgBAAAAYEmEFQAAAACWRFgBAAAAYEk8uhgXufA5oR6Px8+VAAAAoDy78PdmSZ9TT1jBRXJyciRJkZGRfq4EAAAAN4Jz587JbrdftJ+wgos4HA5JUlpaWrEXDSD9/D8hkZGRSk9P58NDUSKuE5QW1wpKg+uk/DHG6Ny5c3K5XMW2E1ZwkYCAn5cy2e123ghwaEoZiAAACElJREFUWSEhIVwnuCyuE5QW1wpKg+ukfLnUf46zwB4AAACAJRFWAAAAAFhShalTp071dxGwnoCAAHXp0kUVKlTwdymwMK4TlAbXCUqLawWlwXVyY7GZkp4TBgAAAAB+xG1gAAAAACyJsAIAAADAkggrAAAAACyJsAIAAADAkggr8GGM0ZQpU1SjRg2Fhobqjjvu0LfffuvvslBGJk6cqNjYWIWFhal69ep68MEHdeTIEZ8+qamp6tOnj5xOp6KiovToo48qLy/Pp88rr7yiunXrym6367bbbtOmTZvKfAxYx4ABA2Sz2bR+/XrvvuTkZN12222y2+2qV6+eXnvtNZ9jzp8/r/HjxysqKkpOp1N9+vS56ForizHgf1u2bFHXrl3ldDrlcrnUvn17FRUVSZJ27dqlO+64Q6GhoapRo4amTp2qXz7XpzS/c8piDPjfyZMnNXjwYFWrVk0ul0vt2rXTxo0bve28p6BEBviFmTNnmpiYGLNr1y7jdrvNxIkTTY0aNUxOTo6/S0MZmDhxotm+fbs5f/68ycjIMA8++KCJi4vzthcWFprY2FgzbNgwk5WVZQ4dOmRiY2PN448/7u3z9ttvm7CwMJOcnGzOnz9v/v73v5vQ0FCTmppaZmPAOhYvXmx69uxpJJmkpCRjjDGHDh0ydrvd/P3vfzfnz583ycnJJiwszLz33nve48aNG2diY2PNoUOHTFZWlhk2bJhp3ry5KSwsLLMx4H+bN2824eHhZvHixebs2bMmPz/fbN261RQVFZns7GwTHR1tJk6caNxut9m1a5epWbOmeemll7zHX+53TlmMAWsYOHCg6dixozl16pQpKCgws2bNMg6Hw6Snp/OegksirMBH3bp1zezZs71f5+fnm6ioKLNkyRI/VoWrZceOHUaSOXPmjDHGmOTkZBMYGGhOnz7t7bNmzRpjt9uNx+MxxhjTpUsX8+STT/qM07x5c/Pcc8+V2RiwhiNHjphatWqZw4cP+4SVqVOnmubNm/v0ffLJJ03Xrl2NMcZ4PB4TEhJi1qxZ420/ffq0CQwMNJs2bSqzMeB/HTt2NH/84x+LbVu0aJGpUqWKyc/P9+6bPXu2qV+/vvfry/3OKYsxYA3NmjXz+Tnl5OQYSWbr1q28p+CSuA0MXllZWTp06JDatGnj3RcYGKgWLVpox44dfqwMV8snn3yiOnXqKCIiQpK0c+dO1a9fX1FRUd4+rVu3ltvt1r59+7x9fnmNXOhz4RopizHgf8YYjRw5UpMnT1bt2rV92i7389u7d688Ho9Pn6ioKNWrV8/nOrnSMeBfbrdbmzdvVoUKFdSmTRtFRkaqZcuWevfddyX9/DNu0aKFAgMDvce0bt1aBw4cUHZ2dql+55TFGLCGp59+WmvWrNHx48eVn5+vV155RTfddJOaNWvGewouibACr+zsbEmSy+Xy2R8REeFtQ/mxfv16/c///I8SExO9+7Kzs4v9+V9ou1Sfy7X/mjHgf6+99pqMMRozZsxFbaW5BqRLv5eUxRjwrzNnzqioqEiLFy/WK6+8opMnTyo+Pl4PPvigtmzZctn3giu5Tn7NGLCGDh06qFKlSqpRo4ZCQkL017/+VYsXL1ZISAjvKbgkwgq8wsLCJEmZmZk++zMyMrxtKB8++OADDRo0SMuWLdPdd9/t3R8WFlbsz/9C26X6XK7914wB/9q/f7+ef/55zZs3r9j20lwD0qXfS8piDPiX0+mUJI0YMUKtW7dWYGCgBg4cqDvvvFNr1qy57HvBlVwnv2YM+F9RUZG6du2q6Ohopaen69y5c3rjjTfUu3dv7dy5k/cUXBJhBV7h4eGqW7eutm3b5t1XUFDgnYZH+bB8+XINGTJEK1eu1IABA3zamjdvroMHDyo9Pd27b/v27bLb7WrUqJG3zy+vkQt9LlwjZTEG/Ovzzz9Xenq6WrZsqaioKO8tfffee6/GjBlz2Z9f48aNFRIS4tMnLS1Nhw4d8rlOrnQM+Fd4eLhuuukm2Wy2YtubN2+uHTt2qKCgwLtv+/btql+/vsLCwkr1O6csxoD/ZWRk6MCBA3r88cdVuXJlBQYGqn///rrpppv0z3/+k/cUXJq/F83AWmbOnGlq1apldu/ebdxut5k0aRJPVSlH5s6da1wuV4mLCS88yWv48OEmOzvbHD582MTFxZnHHnvM2+ftt9824eHhZtOmTeb8+fPm1VdfLfZpYFcyBvzr7Nmz5siRIz6bJPPmm296n9wTEhJiXn31VXP+/HmzadMmEx4ebt59913vGOPGjTNxcXHm8OHDJjs72zz00EMmLi7O58k9VzoG/G/27NmmWrVqZseOHaawsNC8//77pmLFimbr1q3eJ3lNmjTJuN1us3v3blOrVi3z17/+1Xv85X7nlMUYsIZbbrnF/P73vzdZWVmmsLDQ/OMf/zDBwcEmKSmJ9xRcEmEFPoqKiswzzzxjqlWrZkJCQkynTp3Mrl27/F0WyogkExgYaEJDQ322X4aXQ4cOmd69e5vQ0FBTuXJlM378eHPu3DmfcebOnWtq165tKlWqZFq0aGGSk5N92stiDFiLfvE0MGOM2bBhg2nevLmpVKmSqVOnjnnllVd8+p87d86MGzfOVK5c2YSGhprevXtfFEbLYgz43/Tp001MTIxxOBymRYsWPk9b+uabb0zHjh1NSEiIqVatmpkyZYopKirytpfmd05ZjAH/27dvn+nfv7+pUqWKcTqdpkmTJub111/3tvOegpLYjPnFJysBAAAAgEWwZgUAAACAJRFWAAAAAFgSYQUAAACAJRFWAAAAAFgSYQUAAACAJRFWAAAAAFjS/wN08KmMxL0fdgAAAABJRU5ErkJggg==\" class=\"pd_save is-viewer-good\">"
      ],
      "text/plain": [
       "<IPython.core.display.HTML object>"
      ]
     },
     "metadata": {},
     "output_type": "display_data"
    }
   ],
   "source": [
    "import pixiedust\n",
    "from pyspark.sql.functions import col\n",
    "counts = df.groupBy('class').count().orderBy('count')\n",
    "display(counts)"
   ]
  },
  {
   "cell_type": "markdown",
   "metadata": {},
   "source": [
    "This looks nice, but it would be nice if we can aggregate further to obtain some quantitative metrics on the imbalance like, min, max, mean and standard deviation. If we divide max by min we get a measure called minmax ration which tells us something about the relationship between the smallest and largest class. Again, let’s first use SQL for those of you familiar with SQL. Don’t be scared, we’re used nested sub-selects, basically selecting from a result of a SQL query like it was a table. All within on SQL statement."
   ]
  },
  {
   "cell_type": "code",
   "execution_count": 8,
   "metadata": {},
   "outputs": [
    {
     "name": "stdout",
     "output_type": "stream",
     "text": [
      "+----+-----+------------------+------------------+-----------------+\n",
      "| min|  max|              mean|            stddev|      minmaxratio|\n",
      "+----+-----+------------------+------------------+-----------------+\n",
      "|6683|92254|31894.928571428572|21284.893716741157|13.80427951518779|\n",
      "+----+-----+------------------+------------------+-----------------+\n",
      "\n"
     ]
    }
   ],
   "source": [
    "spark.sql('''\n",
    "    select \n",
    "        *,\n",
    "        max/min as minmaxratio -- compute minmaxratio based on previously computed values\n",
    "        from (\n",
    "            select \n",
    "                min(ct) as min, -- compute minimum value of all classes\n",
    "                max(ct) as max, -- compute maximum value of all classes\n",
    "                mean(ct) as mean, -- compute mean between all classes\n",
    "                stddev(ct) as stddev -- compute standard deviation between all classes\n",
    "                from (\n",
    "                    select\n",
    "                        count(*) as ct -- count the number of rows per class and rename it to ct\n",
    "                        from df -- access the temporary query table called df backed by DataFrame df\n",
    "                        group by class -- aggrecate over class\n",
    "                )\n",
    "        )   \n",
    "''').show()"
   ]
  },
  {
   "cell_type": "markdown",
   "metadata": {},
   "source": [
    "The same query can be expressed using the DataFrame API. Again, don’t be scared. It’s just a sequential expression of transformation steps. You now an choose which syntax you like better."
   ]
  },
  {
   "cell_type": "code",
   "execution_count": 9,
   "metadata": {},
   "outputs": [
    {
     "name": "stdout",
     "output_type": "stream",
     "text": [
      "+----+-----+------------------+------------------+-----------------+\n",
      "| min|  max|              mean|            stddev|      minmaxratio|\n",
      "+----+-----+------------------+------------------+-----------------+\n",
      "|6683|92254|31894.928571428572|21284.893716741157|13.80427951518779|\n",
      "+----+-----+------------------+------------------+-----------------+\n",
      "\n"
     ]
    }
   ],
   "source": [
    "from pyspark.sql.functions import col, min, max, mean, stddev\n",
    "\n",
    "df \\\n",
    "    .groupBy('class') \\\n",
    "    .count() \\\n",
    "    .select([ \n",
    "        min(col(\"count\")).alias('min'), \n",
    "        max(col(\"count\")).alias('max'), \n",
    "        mean(col(\"count\")).alias('mean'), \n",
    "        stddev(col(\"count\")).alias('stddev') \n",
    "    ]) \\\n",
    "    .select([\n",
    "        col('*'),\n",
    "        (col(\"max\") / col(\"min\")).alias('minmaxratio')\n",
    "    ]) \\\n",
    "    .show()\n"
   ]
  },
  {
   "cell_type": "markdown",
   "metadata": {},
   "source": [
    "Now it’s time for you to work on the data set. First, please create a table of all classes with the respective counts, but this time, please order the table by the count number, ascending."
   ]
  },
  {
   "cell_type": "code",
   "execution_count": 28,
   "metadata": {},
   "outputs": [
    {
     "name": "stdout",
     "output_type": "stream",
     "text": [
      "+--------------+-----+\n",
      "|         class|count|\n",
      "+--------------+-----+\n",
      "|      Eat_soup| 6683|\n",
      "|   Liedown_bed|11446|\n",
      "| Use_telephone|15225|\n",
      "|Descend_stairs|15375|\n",
      "|     Comb_hair|23504|\n",
      "| Sitdown_chair|25036|\n",
      "| Standup_chair|25417|\n",
      "|   Brush_teeth|29829|\n",
      "|      Eat_meat|31236|\n",
      "|  Climb_stairs|40258|\n",
      "|    Pour_water|41673|\n",
      "|   Drink_glass|42792|\n",
      "|     Getup_bed|45801|\n",
      "|          Walk|92254|\n",
      "+--------------+-----+\n",
      "\n"
     ]
    }
   ],
   "source": [
    "counts_asc = df.groupby('class').count().orderBy([\"count\"], ascending=[1])\n",
    "counts_asc.show()"
   ]
  },
  {
   "cell_type": "markdown",
   "metadata": {},
   "source": [
    "This can also be done with SQL."
   ]
  },
  {
   "cell_type": "code",
   "execution_count": 29,
   "metadata": {},
   "outputs": [
    {
     "name": "stdout",
     "output_type": "stream",
     "text": [
      "+--------------+-----+\n",
      "|         class|count|\n",
      "+--------------+-----+\n",
      "|      Eat_soup| 6683|\n",
      "|   Liedown_bed|11446|\n",
      "| Use_telephone|15225|\n",
      "|Descend_stairs|15375|\n",
      "|     Comb_hair|23504|\n",
      "| Sitdown_chair|25036|\n",
      "| Standup_chair|25417|\n",
      "|   Brush_teeth|29829|\n",
      "|      Eat_meat|31236|\n",
      "|  Climb_stairs|40258|\n",
      "|    Pour_water|41673|\n",
      "|   Drink_glass|42792|\n",
      "|     Getup_bed|45801|\n",
      "|          Walk|92254|\n",
      "+--------------+-----+\n",
      "\n"
     ]
    }
   ],
   "source": [
    "counts_asc = spark.sql(\"select class,count(*) as count from df group by class order by count asc\")\n",
    "counts_asc.show()"
   ]
  },
  {
   "cell_type": "markdown",
   "metadata": {},
   "source": [
    "Pixiedust is a very sophisticated library. It takes care of sorting as well. Please modify the bar chart so that it gets sorted by the number of elements per class, ascending. Hint: It’s an option available in the UI once rendered using the display() function."
   ]
  },
  {
   "cell_type": "code",
   "execution_count": 32,
   "metadata": {
    "pixiedust": {
     "displayParams": {
      "aggregation": "SUM",
      "handlerId": "barChart",
      "keyFields": "class",
      "orientation": "horizontal",
      "sortby": "Values ASC",
      "title": "counts",
      "valueFields": "count"
     }
    }
   },
   "outputs": [
    {
     "data": {
      "text/html": [
       "<style type=\"text/css\">.pd_warning{display:none;}</style><div class=\"pd_warning\"><em>Hey, there's something awesome here! To see it, open this notebook outside GitHub, in a viewer like Jupyter</em></div><img style=\"max-width:initial !important\" src=\"data:image/png;base64,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\" class=\"pd_save is-viewer-good\">"
      ],
      "text/plain": [
       "<IPython.core.display.HTML object>"
      ]
     },
     "metadata": {},
     "output_type": "display_data"
    }
   ],
   "source": [
    "display(counts_asc)"
   ]
  },
  {
   "cell_type": "markdown",
   "metadata": {},
   "source": [
    "Imbalanced classes can cause pain in machine learning. Therefore let’s rebalance. In the flowing we limit the number of elements per class to the amount of the least represented class. This is called undersampling. Other ways of rebalancing can be found here:\n",
    "\n",
    "https://machinelearningmastery.com/tactics-to-combat-imbalanced-classes-in-your-machine-learning-dataset/"
   ]
  },
  {
   "cell_type": "code",
   "execution_count": 33,
   "metadata": {},
   "outputs": [],
   "source": [
    "from pyspark.sql.functions import min\n",
    "\n",
    "# create a lot of distinct classes from the dataset\n",
    "classes = [row[0] for row in df.select('class').distinct().collect()]\n",
    "\n",
    "# compute the number of elements of the smallest class in order to limit the number of samples per calss\n",
    "min = df.groupBy('class').count().select(min('count')).first()[0]\n",
    "\n",
    "# define the result dataframe variable\n",
    "df_balanced = None\n",
    "\n",
    "# iterate over distinct classes\n",
    "for cls in classes:\n",
    "    \n",
    "    # only select examples for the specific class within this iteration\n",
    "    # shuffle the order of the elements (by setting fraction to 1.0 sample works like shuffle)\n",
    "    # return only the first n samples\n",
    "    df_temp = df \\\n",
    "        .filter(\"class = '\"+cls+\"'\") \\\n",
    "        .sample(False, 1.0) \\\n",
    "        .limit(min)\n",
    "    \n",
    "    # on first iteration, assing df_temp to empty df_balanced\n",
    "    if df_balanced == None:    \n",
    "        df_balanced = df_temp\n",
    "    # afterwards, append vertically\n",
    "    else:\n",
    "        df_balanced=df_balanced.union(df_temp)"
   ]
  },
  {
   "cell_type": "markdown",
   "metadata": {},
   "source": [
    "Please verify, by using the code cell below, if df_balanced has the same number of elements per class. You should get 6683 elements per class."
   ]
  },
  {
   "cell_type": "code",
   "execution_count": 35,
   "metadata": {},
   "outputs": [
    {
     "name": "stdout",
     "output_type": "stream",
     "text": [
      "+--------------+-----+\n",
      "|         class|count|\n",
      "+--------------+-----+\n",
      "| Use_telephone| 6683|\n",
      "| Standup_chair| 6683|\n",
      "|      Eat_meat| 6683|\n",
      "|     Getup_bed| 6683|\n",
      "|   Drink_glass| 6683|\n",
      "|    Pour_water| 6683|\n",
      "|     Comb_hair| 6683|\n",
      "|          Walk| 6683|\n",
      "|  Climb_stairs| 6683|\n",
      "| Sitdown_chair| 6683|\n",
      "|   Liedown_bed| 6683|\n",
      "|Descend_stairs| 6683|\n",
      "|   Brush_teeth| 6683|\n",
      "|      Eat_soup| 6683|\n",
      "+--------------+-----+\n",
      "\n"
     ]
    }
   ],
   "source": [
    "df_balanced.groupBy(\"class\").count().show()"
   ]
  }
 ],
 "metadata": {
  "kernelspec": {
   "display_name": "Python 3",
   "language": "python",
   "name": "python3"
  },
  "language_info": {
   "codemirror_mode": {
    "name": "ipython",
    "version": 3
   },
   "file_extension": ".py",
   "mimetype": "text/x-python",
   "name": "python",
   "nbconvert_exporter": "python",
   "pygments_lexer": "ipython3",
   "version": "3.5.6"
  }
 },
 "nbformat": 4,
 "nbformat_minor": 4
}
